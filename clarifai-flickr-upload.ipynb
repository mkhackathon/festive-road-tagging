{
 "cells": [
  {
   "cell_type": "code",
   "execution_count": 1,
   "metadata": {},
   "outputs": [],
   "source": [
    "import configparser\n",
    "import requests\n",
    "import json"
   ]
  },
  {
   "cell_type": "code",
   "execution_count": 2,
   "metadata": {},
   "outputs": [
    {
     "data": {
      "text/plain": [
       "['api_key', 'app_name']"
      ]
     },
     "execution_count": 2,
     "metadata": {},
     "output_type": "execute_result"
    }
   ],
   "source": [
    "config = configparser.ConfigParser()\n",
    "config.read('secrets/keys.ini')\n",
    "list(config['clarifai'].keys())"
   ]
  },
  {
   "cell_type": "code",
   "execution_count": 3,
   "metadata": {},
   "outputs": [],
   "source": [
    "from clarifai import rest\n",
    "from clarifai.rest import ClarifaiApp\n",
    "\n",
    "app = ClarifaiApp(api_key=config['clarifai']['api_key'])"
   ]
  },
  {
   "cell_type": "code",
   "execution_count": 6,
   "metadata": {},
   "outputs": [
    {
     "name": "stderr",
     "output_type": "stream",
     "text": [
      "127.0.0.1 - - [13/Nov/2017 15:16:34] \"GET /?oauth_token=72157688428282841-1038c2099e68737b&oauth_verifier=137a1cd33d672cc3 HTTP/1.1\" 200 -\n"
     ]
    }
   ],
   "source": [
    "import flickrapi\n",
    "import xml.etree.ElementTree as ET\n",
    "\n",
    "flickr = flickrapi.FlickrAPI(config['flickr']['api_key'], config['flickr']['secret'])\n",
    "flickr.authenticate_via_browser(perms='delete')"
   ]
  },
  {
   "cell_type": "code",
   "execution_count": null,
   "metadata": {},
   "outputs": [],
   "source": []
  },
  {
   "cell_type": "code",
   "execution_count": 7,
   "metadata": {},
   "outputs": [],
   "source": [
    "model = app.models.get(\"general-v1.3\")"
   ]
  },
  {
   "cell_type": "code",
   "execution_count": 8,
   "metadata": {},
   "outputs": [
    {
     "data": {
      "text/plain": [
       "1"
      ]
     },
     "execution_count": 8,
     "metadata": {},
     "output_type": "execute_result"
    }
   ],
   "source": [
    "# predict with the model\n",
    "prediction = model.predict_by_url(url='https://scripts.njae.me.uk/festive-road-pictures/small/2017/dinosaurs-2017/Hilary-1024x682-small.jpg')\n",
    "len(prediction['outputs'])"
   ]
  },
  {
   "cell_type": "code",
   "execution_count": 9,
   "metadata": {},
   "outputs": [
    {
     "name": "stdout",
     "output_type": "stream",
     "text": [
      "wheel\t0.97040087\n",
      "travel\t0.92627263\n",
      "transportation system\t0.9254669\n",
      "people\t0.9126378\n",
      "man\t0.88871336\n",
      "seated\t0.88404197\n",
      "outdoors\t0.8577013\n",
      "city\t0.84909\n",
      "park\t0.8472949\n",
      "sky\t0.83394873\n",
      "adult\t0.8234924\n",
      "vehicle\t0.8224447\n",
      "outside\t0.81949174\n",
      "road\t0.796729\n",
      "roll along\t0.7957318\n",
      "woman\t0.79411066\n",
      "two\t0.7910385\n",
      "leisure\t0.7803555\n",
      "bike\t0.77788484\n",
      "summer\t0.77423936\n"
     ]
    }
   ],
   "source": [
    "for tag in prediction['outputs'][0]['data']['concepts']:\n",
    "    print('{}\\t{}'.format(tag['name'], tag['value']))"
   ]
  },
  {
   "cell_type": "code",
   "execution_count": 10,
   "metadata": {},
   "outputs": [
    {
     "data": {
      "text/plain": [
       "'wheel travel transportation system people man seated outdoors city park sky adult vehicle outside'"
      ]
     },
     "execution_count": 10,
     "metadata": {},
     "output_type": "execute_result"
    }
   ],
   "source": [
    "predicted_tags = ' '.join(tag['name'] \n",
    "                          for tag in prediction['outputs'][0]['data']['concepts']\n",
    "                          if tag['value'] > 0.8)\n",
    "predicted_tags"
   ]
  },
  {
   "cell_type": "code",
   "execution_count": 15,
   "metadata": {},
   "outputs": [
    {
     "name": "stdout",
     "output_type": "stream",
     "text": [
      "13729056_604220629759769_8616522255956630230_n.jpg\r\n",
      "14657463_643275559187609_194947010256336459_n.jpg\r\n",
      "14702326_643275609187604_7834648467395130357_n.jpg\r\n",
      "14720537_643275655854266_2888870267078780463_n.jpg\r\n",
      "bridgwater.png\r\n",
      "Carnival of Giants Telford July 2016 1.jpg\r\n",
      "Carnival of Giants Telford July 2016 3.jpg\r\n",
      "Hilary-1024x682.jpg\r\n",
      "IMG_0174 r.jpg\r\n",
      "IMG_9301.jpg\r\n",
      "Jurassic Jockey.jpg\r\n"
     ]
    }
   ],
   "source": [
    "!ls '/backup/festive-road-pictures/full-size/2017/Dinosaurs 2017'"
   ]
  },
  {
   "cell_type": "code",
   "execution_count": 16,
   "metadata": {},
   "outputs": [
    {
     "name": "stdout",
     "output_type": "stream",
     "text": [
      "/backup/festive-road-pictures/full-size/2017/Dinosaurs 2017/Hilary-1024x682.jpg: JPEG image data, JFIF standard 1.01, aspect ratio, density 1x1, segment length 16, comment: \"CREATOR: gd-jpeg v1.0 (using IJG JPEG v62), quality = 75\", baseline, precision 8, 1024x682, frames 3\r\n"
     ]
    }
   ],
   "source": [
    "!file '/backup/festive-road-pictures/full-size/2017/Dinosaurs 2017/Hilary-1024x682.jpg'"
   ]
  },
  {
   "cell_type": "code",
   "execution_count": 17,
   "metadata": {},
   "outputs": [
    {
     "data": {
      "text/plain": [
       "<Element 'rsp' at 0x7f94c596ba48>"
      ]
     },
     "execution_count": 17,
     "metadata": {},
     "output_type": "execute_result"
    }
   ],
   "source": [
    "flickr.upload(filename='/backup/festive-road-pictures/full-size/2017/Dinosaurs 2017/Hilary-1024x682.jpg',\n",
    "             title='Hilary-1024x682',\n",
    "             tags=predicted_tags)"
   ]
  },
  {
   "cell_type": "code",
   "execution_count": 18,
   "metadata": {},
   "outputs": [
    {
     "data": {
      "text/plain": [
       "['19247943_1571294846222629_7357675221196322624_n.jpg',\n",
       " '19260260_10155798957108912_6877095460907410088_n.jpg',\n",
       " '19260271_10155798959113912_6568076652885589190_n.jpg',\n",
       " '19260709_1906157629708906_941293702425961197_n.jpg',\n",
       " '19399545_1906157536375582_145833912971136200_n.jpg',\n",
       " '19399604_1571269959558451_3607857139496512917_n.jpg',\n",
       " '19399607_1906157696375566_1386540831124064876_n.jpg',\n",
       " '19399619_1906157669708902_5236259890165828680_n.jpg',\n",
       " '19399647_10155390848088965_7938774344617224117_n.jpg',\n",
       " '19400005_1906157369708932_5926469320023148390_n.jpg',\n",
       " '19400138_1571270689558378_2695965706258769366_n.jpg',\n",
       " '19420478_1571289056223208_1856269744830997179_n.jpg',\n",
       " '19420569_1571283129557134_2126723608823927573_n.jpg',\n",
       " '19420590_1053752144760634_3142365460707294592_n.jpg',\n",
       " '19424019_1573437082675072_1053538685425548156_n.jpg',\n",
       " '19424125_771995422982288_1889221161832621113_n.jpg',\n",
       " '19424205_1573391616012952_8260264972658709750_n.jpg',\n",
       " '19424235_1571293586222755_624832493830710928_n.jpg',\n",
       " '19424271_10155798955468912_3425389609817707195_n.jpg',\n",
       " '19424319_10155798956173912_3938315803009801676_n.jpg',\n",
       " '19424324_10155798957553912_2371544872039357145_n.jpg',\n",
       " '19424328_1705994409441127_7491513246025163645_n.jpg',\n",
       " '19424377_1573432509342196_7978315481708033857_n.jpg',\n",
       " '19424407_10155798958723912_5564984031273695238_n.jpg',\n",
       " '19424504_10155798956953912_1523583827644595915_n.jpg',\n",
       " '19424564_772506176264546_3660700559467241556_n.jpg',\n",
       " '19429739_10155798958088912_3127922090997126309_n.jpg',\n",
       " '19429769_1571274052891375_4453574939837752686_n.jpg',\n",
       " '19429779_10155798958463912_4315042086919907103_n.jpg',\n",
       " '19429856_1571280372890743_6712737082568706574_n.jpg',\n",
       " '19430029_1705994372774464_5893453405922116623_n.jpg',\n",
       " '19430052_10155799267828912_5863245353196954312_n.jpg',\n",
       " '19430152_10155798958313912_4328821715944428907_n.jpg',\n",
       " '19430182_10155798958823912_187342676077900360_n.jpg',\n",
       " '19437415_1573388159346631_2698917706983867374_n.jpg',\n",
       " '19437473_10155799228743912_6273262479233142529_n.jpg',\n",
       " '19437526_10155798956833912_5688226924157518872_n.jpg',\n",
       " '19437528_10155799005298912_675600289145401988_n.jpg',\n",
       " '19437582_1573395452679235_145479614976715724_n.jpg',\n",
       " '19437610_10155798957428912_429750075337489019_n.jpg',\n",
       " '19437640_10155798955613912_1644562527231893945_n.jpg',\n",
       " '19437658_1571279362890844_808314517868905003_n.jpg',\n",
       " '19437705_10155798957358912_5963574770412713903_n.jpg',\n",
       " '19510113_10155798958648912_2145681782397167106_n.jpg',\n",
       " '19510200_1573395996012514_4071076384785125007_n.jpg',\n",
       " '19510212_1571290802889700_4296536434837205251_n.jpg',\n",
       " '19510353_1573410296011084_2234628259224088290_n.jpg',\n",
       " '19510359_10155798957658912_5330532059947958529_n.jpg',\n",
       " '19510388_10155798957698912_2438415644830278694_n.jpg',\n",
       " '19510393_1571277749557672_5565986862522979486_n.jpg',\n",
       " '19510521_10155799101758912_6875999084964397257_n.jpg',\n",
       " '19510634_1705994362774465_5617632384545759425_n.jpg',\n",
       " '19510639_1573415962677184_3692810155094307706_n.jpg',\n",
       " '19510650_10155798955568912_1902237985037190820_n.jpg',\n",
       " '19510669_10155798955573912_8710477419727495469_n.jpg',\n",
       " '19510672_1573400236012090_8102297862107478929_n.jpg',\n",
       " '19511116_10155798959223912_4123016736989583177_n.jpg',\n",
       " '19511164_1573390149346432_613811518815406945_n.jpg',\n",
       " '19511179_10155798957178912_6340658399839018043_n.jpg',\n",
       " '19511325_10155798959023912_7703130560370759636_n.jpg',\n",
       " '19511339_1573438162674964_7516442402484099486_n.jpg',\n",
       " '19511350_10155798957363912_7098268587622149818_n.jpg',\n",
       " '19511398_10155798959278912_1200800021929273562_n.jpg',\n",
       " '19511458_1571272209558226_4111925194382979813_n.jpg',\n",
       " '19554059_10155798989908912_5945347397134650986_n.jpg',\n",
       " '19554131_10155799267783912_1394836949494253709_n.jpg',\n",
       " '19554152_10155798958968912_1880034254410958686_n.jpg',\n",
       " '19554206_10155798955983912_7798206033688666786_n.jpg',\n",
       " '19554210_10155798955893912_6172971209515795514_n.jpg',\n",
       " '19554631_10155799127553912_8530113848165572392_n.jpg',\n",
       " '19554727_10155798956623912_113799028821189064_n.jpg',\n",
       " '19554754_10155798957063912_2647885632176725373_n.jpg',\n",
       " '19554866_10155798956333912_5795299722510884423_n.jpg',\n",
       " '19554874_10155798989763912_171885814959398188_n.jpg',\n",
       " '19601395_10155798985198912_1803305185226019401_n.jpg',\n",
       " 'DDKp_FNXUAAu_8A.jpg',\n",
       " 'DDKqCVGXkAAFepe.jpg',\n",
       " 'DDKqFVHXkAEk-J6.jpg',\n",
       " 'DDKqLmLW0AAbO5M.jpg',\n",
       " 'DDMmVktXcAQPBzz.jpg',\n",
       " 'DDMnwNKXcAEfKHV.jpg',\n",
       " 'DDMnwNMW0AAcMYY.jpg',\n",
       " 'DDPjOJVXkAATWxN.jpg',\n",
       " 'DDPjOLmXUAA2RKf.jpg',\n",
       " 'DDPjOMKXUAApUJD.jpg',\n",
       " 'DDPjOPEXcAA3-Mm.jpg',\n",
       " 'DSC_0848.JPG',\n",
       " 'DSC_0852.JPG',\n",
       " 'DSC_0853.JPG',\n",
       " 'DSC_0857.JPG',\n",
       " 'DSC_0859.JPG',\n",
       " 'DSC_0861.JPG',\n",
       " 'DSC_0862.JPG',\n",
       " 'DSC_0863.jpg',\n",
       " 'GOPR2388.jpg',\n",
       " 'GOPR2390.jpg',\n",
       " 'IMG_9295.jpg',\n",
       " 'IMG_9302.jpg',\n",
       " 'IMG_9303.jpg',\n",
       " 'IMG_9304.jpg',\n",
       " 'IMG_9306.jpg',\n",
       " 'IMG_9308.jpg',\n",
       " 'IMG_9310.jpg',\n",
       " 'IMG_9311.jpg',\n",
       " 'IMG_9313.jpg',\n",
       " 'IMG_9315.jpg',\n",
       " 'IMG_9316.jpg',\n",
       " 'IMG_9317.jpg',\n",
       " 'IMG_9319.jpg',\n",
       " 'IMG_9320.jpg',\n",
       " 'IMG_9321.jpg',\n",
       " 'IMG_9323.jpg',\n",
       " 'IMG_9325.jpg',\n",
       " 'IMG_9328.jpg',\n",
       " 'IMG_9331.jpg',\n",
       " 'IMG_9332.jpg',\n",
       " 'IMG_9333.jpg',\n",
       " 'IMG_9337.jpg',\n",
       " 'IMG_9339.jpg',\n",
       " 'IMG_9340.jpg',\n",
       " 'IMG_9341.jpg',\n",
       " 'IMG_9343.jpg',\n",
       " 'IMG_9350.jpg',\n",
       " 'IMG_9353.jpg',\n",
       " 'IMG_9358.jpg',\n",
       " 'IMG_9359.jpg',\n",
       " 'IMG_9363.jpg',\n",
       " 'IMG_9364.jpg',\n",
       " 'IMG_9365.jpg',\n",
       " 'IMG_9368.jpg',\n",
       " 'IMG_9370.jpg',\n",
       " 'IMG_9372.jpg',\n",
       " 'IMG_9373.jpg',\n",
       " 'IMG_9375.jpg',\n",
       " 'IMG_9379.jpg',\n",
       " 'IMG_9380.jpg',\n",
       " 'IMG_9381.jpg',\n",
       " 'IMG_9383.jpg',\n",
       " 'IMG_9384.jpg',\n",
       " 'IMG_9389.jpg',\n",
       " 'IMG_9390.jpg',\n",
       " 'IMG_9396.jpg',\n",
       " 'IMG_9398.jpg',\n",
       " 'IMG_9402.jpg',\n",
       " 'IMG_9406.jpg',\n",
       " 'IMG_9409.jpg',\n",
       " 'IMG_9414.jpg',\n",
       " 'IMG_9418.jpg',\n",
       " 'IMG_9419.jpg',\n",
       " 'IMG_9424.jpg',\n",
       " 'IMG_9428.jpg',\n",
       " 'IMG_9437.jpg',\n",
       " 'IMG_9440.jpg',\n",
       " 'IMG_9446.jpg',\n",
       " 'IMG_9449.jpg',\n",
       " 'IMG_9451.jpg',\n",
       " 'IMG_9454.jpg',\n",
       " 'IMG_9457.jpg',\n",
       " 'IMG_9460.jpg',\n",
       " 'IMG_9474.jpg',\n",
       " 'IMG_9476.jpg',\n",
       " 'IMG_9482.jpg',\n",
       " 'IMG_9487.jpg',\n",
       " 'IMG_9489.jpg',\n",
       " 'IMG_9493.jpg',\n",
       " 'IMG_9495.jpg',\n",
       " 'IMG_9496.jpg',\n",
       " 'IMG_9499.jpg',\n",
       " 'IMG_9503.jpg',\n",
       " 'IMG_9505.jpg',\n",
       " 'IMG_9515.jpg',\n",
       " 'IMG_9517.jpg',\n",
       " 'IMG_9521.jpg',\n",
       " 'IMG_9522.jpg',\n",
       " 'IMG_9523.jpg',\n",
       " 'IMG_9527.jpg',\n",
       " 'IMG_9530.jpg',\n",
       " 'IMG_9533.jpg',\n",
       " 'IMG_9535.jpg',\n",
       " 'IMG_9537.jpg',\n",
       " 'IMG_9542.jpg',\n",
       " 'IMG_9543.jpg',\n",
       " 'IMG_9544.jpg',\n",
       " 'IMG_9546.jpg',\n",
       " 'IMG_9551.jpg',\n",
       " 'IMG_9555.jpg',\n",
       " 'IMG_9563.jpg',\n",
       " 'IMG_9565.jpg',\n",
       " 'IMG_9570.jpg',\n",
       " 'IMG_9572.jpg',\n",
       " 'IMG_9573 (1).jpg',\n",
       " 'IMG_9573 (2).jpg',\n",
       " 'IMG_9573.jpg',\n",
       " 'IMG_9574.jpg',\n",
       " 'IMG_9578.jpg',\n",
       " 'IMG_9579.jpg',\n",
       " 'IMG_9580.jpg',\n",
       " 'IMG_9581.jpg',\n",
       " 'IMG_9582.jpg',\n",
       " 'IMG_9585.jpg',\n",
       " 'IMG_9586.jpg',\n",
       " 'IMG_9589.jpg',\n",
       " 'IMG_9590.jpg',\n",
       " 'IMG_9594.jpg',\n",
       " 'IMG_9596.jpg',\n",
       " 'IMG_9598.jpg',\n",
       " 'IMG_9599.jpg',\n",
       " 'IMG_9600.jpg',\n",
       " 'IMG_9601.jpg',\n",
       " 'IMG_9603.jpg',\n",
       " 'IMG_9613.jpg',\n",
       " 'IMG_9615.jpg',\n",
       " 'IMG_9616.jpg',\n",
       " 'IMG_9617.jpg',\n",
       " 'IMG_9618.jpg',\n",
       " 'IMG_9619.jpg',\n",
       " 'IMG_9620.jpg',\n",
       " 'IMG_9621.jpg',\n",
       " 'IMG_9625.jpg',\n",
       " 'IMG_9628.jpg',\n",
       " 'IMG_9629.jpg',\n",
       " 'IMG_9632.jpg']"
      ]
     },
     "execution_count": 18,
     "metadata": {},
     "output_type": "execute_result"
    }
   ],
   "source": [
    "filenames = !ls '/backup/festive-road-pictures/full-size/2017/Festival of Giants 2017'\n",
    "filenames"
   ]
  },
  {
   "cell_type": "code",
   "execution_count": null,
   "metadata": {},
   "outputs": [],
   "source": [
    "predict_by_filename"
   ]
  },
  {
   "cell_type": "code",
   "execution_count": 38,
   "metadata": {},
   "outputs": [
    {
     "name": "stdout",
     "output_type": "stream",
     "text": [
      "processing DSC_0848.JPG\n",
      "processing DSC_0852.JPG\n",
      "processing DSC_0853.JPG\n",
      "processing DSC_0857.JPG\n",
      "processing DSC_0859.JPG\n",
      "processing DSC_0861.JPG\n",
      "processing DSC_0862.JPG\n",
      "processing DSC_0863.jpg\n",
      "processing GOPR2388.jpg\n",
      "processing GOPR2390.jpg\n",
      "processing IMG_9295.jpg\n",
      "processing IMG_9302.jpg\n",
      "processing IMG_9303.jpg\n",
      "processing IMG_9304.jpg\n",
      "processing IMG_9306.jpg\n",
      "processing IMG_9308.jpg\n",
      "processing IMG_9310.jpg\n",
      "processing IMG_9311.jpg\n",
      "processing IMG_9313.jpg\n",
      "processing IMG_9315.jpg\n",
      "processing IMG_9316.jpg\n",
      "processing IMG_9317.jpg\n",
      "processing IMG_9319.jpg\n",
      "processing IMG_9320.jpg\n",
      "processing IMG_9321.jpg\n",
      "processing IMG_9323.jpg\n",
      "processing IMG_9325.jpg\n",
      "processing IMG_9328.jpg\n",
      "processing IMG_9331.jpg\n",
      "processing IMG_9332.jpg\n",
      "processing IMG_9333.jpg\n",
      "processing IMG_9337.jpg\n",
      "processing IMG_9339.jpg\n",
      "processing IMG_9340.jpg\n",
      "processing IMG_9341.jpg\n",
      "processing IMG_9343.jpg\n",
      "processing IMG_9350.jpg\n",
      "processing IMG_9353.jpg\n",
      "processing IMG_9358.jpg\n",
      "processing IMG_9359.jpg\n",
      "processing IMG_9363.jpg\n",
      "processing IMG_9364.jpg\n",
      "processing IMG_9365.jpg\n",
      "processing IMG_9368.jpg\n",
      "processing IMG_9370.jpg\n",
      "processing IMG_9372.jpg\n",
      "processing IMG_9373.jpg\n",
      "processing IMG_9375.jpg\n",
      "processing IMG_9379.jpg\n",
      "processing IMG_9380.jpg\n",
      "processing IMG_9381.jpg\n",
      "processing IMG_9383.jpg\n",
      "processing IMG_9384.jpg\n",
      "processing IMG_9389.jpg\n",
      "processing IMG_9390.jpg\n",
      "processing IMG_9396.jpg\n",
      "processing IMG_9398.jpg\n",
      "processing IMG_9402.jpg\n",
      "processing IMG_9406.jpg\n",
      "processing IMG_9409.jpg\n",
      "processing IMG_9414.jpg\n",
      "processing IMG_9418.jpg\n",
      "processing IMG_9419.jpg\n",
      "processing IMG_9424.jpg\n",
      "processing IMG_9428.jpg\n",
      "processing IMG_9437.jpg\n",
      "processing IMG_9440.jpg\n",
      "processing IMG_9446.jpg\n",
      "processing IMG_9449.jpg\n",
      "processing IMG_9451.jpg\n",
      "processing IMG_9454.jpg\n",
      "processing IMG_9457.jpg\n",
      "processing IMG_9460.jpg\n",
      "processing IMG_9474.jpg\n",
      "processing IMG_9476.jpg\n",
      "processing IMG_9482.jpg\n",
      "processing IMG_9487.jpg\n",
      "processing IMG_9489.jpg\n",
      "processing IMG_9493.jpg\n",
      "processing IMG_9495.jpg\n",
      "processing IMG_9496.jpg\n",
      "processing IMG_9499.jpg\n",
      "processing IMG_9503.jpg\n",
      "processing IMG_9505.jpg\n",
      "processing IMG_9515.jpg\n",
      "processing IMG_9517.jpg\n",
      "processing IMG_9521.jpg\n",
      "processing IMG_9522.jpg\n",
      "processing IMG_9523.jpg\n",
      "processing IMG_9527.jpg\n",
      "processing IMG_9530.jpg\n",
      "processing IMG_9533.jpg\n",
      "processing IMG_9535.jpg\n",
      "processing IMG_9537.jpg\n",
      "processing IMG_9542.jpg\n",
      "processing IMG_9543.jpg\n",
      "processing IMG_9544.jpg\n",
      "processing IMG_9546.jpg\n",
      "processing IMG_9551.jpg\n",
      "processing IMG_9555.jpg\n",
      "processing IMG_9563.jpg\n",
      "processing IMG_9565.jpg\n",
      "processing IMG_9570.jpg\n",
      "processing IMG_9572.jpg\n",
      "processing IMG_9573 (1).jpg\n",
      "processing IMG_9573 (2).jpg\n",
      "processing IMG_9573.jpg\n",
      "processing IMG_9574.jpg\n",
      "processing IMG_9578.jpg\n",
      "processing IMG_9579.jpg\n",
      "processing IMG_9580.jpg\n",
      "processing IMG_9581.jpg\n",
      "processing IMG_9582.jpg\n",
      "processing IMG_9585.jpg\n",
      "processing IMG_9586.jpg\n",
      "processing IMG_9589.jpg\n",
      "processing IMG_9590.jpg\n",
      "processing IMG_9594.jpg\n",
      "processing IMG_9596.jpg\n",
      "processing IMG_9598.jpg\n",
      "processing IMG_9599.jpg\n",
      "processing IMG_9600.jpg\n",
      "processing IMG_9601.jpg\n",
      "processing IMG_9603.jpg\n",
      "processing IMG_9613.jpg\n",
      "processing IMG_9615.jpg\n",
      "processing IMG_9616.jpg\n",
      "processing IMG_9617.jpg\n",
      "processing IMG_9618.jpg\n",
      "processing IMG_9619.jpg\n",
      "processing IMG_9620.jpg\n",
      "processing IMG_9621.jpg\n",
      "processing IMG_9625.jpg\n",
      "processing IMG_9628.jpg\n",
      "processing IMG_9629.jpg\n",
      "processing IMG_9632.jpg\n"
     ]
    }
   ],
   "source": [
    "for f in filenames:\n",
    "    if f not in processed:\n",
    "        print('processing', f)\n",
    "        full_path = '/backup/festive-road-pictures/full-size/2017/Festival of Giants 2017/' + f\n",
    "        small_path = '/backup/festive-road-pictures/small/2017/festival-of-giants-2017/' + f[:-4] + '-small.jpg'\n",
    "        prediction = model.predict_by_filename(small_path, min_value=0.8)\n",
    "        predicted_tags = ' '.join(tag['name'] \n",
    "                              for tag in prediction['outputs'][0]['data']['concepts'])\n",
    "        flickr.upload(filename=full_path,\n",
    "                 title=f,\n",
    "                 tags=predicted_tags)"
   ]
  },
  {
   "cell_type": "code",
   "execution_count": 37,
   "metadata": {},
   "outputs": [],
   "source": [
    "processed = [p[11:] for p in \"\"\"processing 19247943_1571294846222629_7357675221196322624_n.jpg\n",
    "processing 19260260_10155798957108912_6877095460907410088_n.jpg\n",
    "processing 19260271_10155798959113912_6568076652885589190_n.jpg\n",
    "processing 19260709_1906157629708906_941293702425961197_n.jpg\n",
    "processing 19399545_1906157536375582_145833912971136200_n.jpg\n",
    "processing 19399604_1571269959558451_3607857139496512917_n.jpg\n",
    "processing 19399607_1906157696375566_1386540831124064876_n.jpg\n",
    "processing 19399619_1906157669708902_5236259890165828680_n.jpg\n",
    "processing 19399647_10155390848088965_7938774344617224117_n.jpg\n",
    "processing 19400005_1906157369708932_5926469320023148390_n.jpg\n",
    "processing 19400138_1571270689558378_2695965706258769366_n.jpg\n",
    "processing 19420478_1571289056223208_1856269744830997179_n.jpg\n",
    "processing 19420569_1571283129557134_2126723608823927573_n.jpg\n",
    "processing 19420590_1053752144760634_3142365460707294592_n.jpg\n",
    "processing 19424019_1573437082675072_1053538685425548156_n.jpg\n",
    "processing 19424125_771995422982288_1889221161832621113_n.jpg\n",
    "processing 19424205_1573391616012952_8260264972658709750_n.jpg\n",
    "processing 19424235_1571293586222755_624832493830710928_n.jpg\n",
    "processing 19424271_10155798955468912_3425389609817707195_n.jpg\n",
    "processing 19424319_10155798956173912_3938315803009801676_n.jpg\n",
    "processing 19424324_10155798957553912_2371544872039357145_n.jpg\n",
    "processing 19424328_1705994409441127_7491513246025163645_n.jpg\n",
    "processing 19424377_1573432509342196_7978315481708033857_n.jpg\n",
    "processing 19424407_10155798958723912_5564984031273695238_n.jpg\n",
    "processing 19424504_10155798956953912_1523583827644595915_n.jpg\n",
    "processing 19424564_772506176264546_3660700559467241556_n.jpg\n",
    "processing 19429739_10155798958088912_3127922090997126309_n.jpg\n",
    "processing 19429769_1571274052891375_4453574939837752686_n.jpg\n",
    "processing 19429779_10155798958463912_4315042086919907103_n.jpg\n",
    "processing 19429856_1571280372890743_6712737082568706574_n.jpg\n",
    "processing 19430029_1705994372774464_5893453405922116623_n.jpg\n",
    "processing 19430052_10155799267828912_5863245353196954312_n.jpg\n",
    "processing 19430152_10155798958313912_4328821715944428907_n.jpg\n",
    "processing 19430182_10155798958823912_187342676077900360_n.jpg\n",
    "processing 19437415_1573388159346631_2698917706983867374_n.jpg\n",
    "processing 19437473_10155799228743912_6273262479233142529_n.jpg\n",
    "processing 19437526_10155798956833912_5688226924157518872_n.jpg\n",
    "processing 19437528_10155799005298912_675600289145401988_n.jpg\n",
    "processing 19437582_1573395452679235_145479614976715724_n.jpg\n",
    "processing 19437610_10155798957428912_429750075337489019_n.jpg\n",
    "processing 19437640_10155798955613912_1644562527231893945_n.jpg\n",
    "processing 19437658_1571279362890844_808314517868905003_n.jpg\n",
    "processing 19437705_10155798957358912_5963574770412713903_n.jpg\n",
    "processing 19510113_10155798958648912_2145681782397167106_n.jpg\n",
    "processing 19510200_1573395996012514_4071076384785125007_n.jpg\n",
    "processing 19510212_1571290802889700_4296536434837205251_n.jpg\n",
    "processing 19510353_1573410296011084_2234628259224088290_n.jpg\n",
    "processing 19510359_10155798957658912_5330532059947958529_n.jpg\n",
    "processing 19510388_10155798957698912_2438415644830278694_n.jpg\n",
    "processing 19510393_1571277749557672_5565986862522979486_n.jpg\n",
    "processing 19510521_10155799101758912_6875999084964397257_n.jpg\n",
    "processing 19510634_1705994362774465_5617632384545759425_n.jpg\n",
    "processing 19510639_1573415962677184_3692810155094307706_n.jpg\n",
    "processing 19510650_10155798955568912_1902237985037190820_n.jpg\n",
    "processing 19510669_10155798955573912_8710477419727495469_n.jpg\n",
    "processing 19510672_1573400236012090_8102297862107478929_n.jpg\n",
    "processing 19511116_10155798959223912_4123016736989583177_n.jpg\n",
    "processing 19511164_1573390149346432_613811518815406945_n.jpg\n",
    "processing 19511179_10155798957178912_6340658399839018043_n.jpg\n",
    "processing 19511325_10155798959023912_7703130560370759636_n.jpg\n",
    "processing 19511339_1573438162674964_7516442402484099486_n.jpg\n",
    "processing 19511350_10155798957363912_7098268587622149818_n.jpg\n",
    "processing 19511398_10155798959278912_1200800021929273562_n.jpg\n",
    "processing 19511458_1571272209558226_4111925194382979813_n.jpg\n",
    "processing 19554059_10155798989908912_5945347397134650986_n.jpg\n",
    "processing 19554131_10155799267783912_1394836949494253709_n.jpg\n",
    "processing 19554152_10155798958968912_1880034254410958686_n.jpg\n",
    "processing 19554206_10155798955983912_7798206033688666786_n.jpg\n",
    "processing 19554210_10155798955893912_6172971209515795514_n.jpg\n",
    "processing 19554631_10155799127553912_8530113848165572392_n.jpg\n",
    "processing 19554727_10155798956623912_113799028821189064_n.jpg\n",
    "processing 19554754_10155798957063912_2647885632176725373_n.jpg\n",
    "processing 19554866_10155798956333912_5795299722510884423_n.jpg\n",
    "processing 19554874_10155798989763912_171885814959398188_n.jpg\n",
    "processing 19601395_10155798985198912_1803305185226019401_n.jpg\n",
    "processing DDKp_FNXUAAu_8A.jpg\n",
    "processing DDKqCVGXkAAFepe.jpg\n",
    "processing DDKqFVHXkAEk-J6.jpg\n",
    "processing DDKqLmLW0AAbO5M.jpg\n",
    "processing DDMmVktXcAQPBzz.jpg\n",
    "processing DDMnwNKXcAEfKHV.jpg\n",
    "processing DDMnwNMW0AAcMYY.jpg\n",
    "processing DDPjOJVXkAATWxN.jpg\n",
    "processing DDPjOLmXUAA2RKf.jpg\n",
    "processing DDPjOMKXUAApUJD.jpg\n",
    "processing DDPjOPEXcAA3-Mm.jpg\"\"\".split('\\n')]"
   ]
  },
  {
   "cell_type": "code",
   "execution_count": 35,
   "metadata": {},
   "outputs": [
    {
     "data": {
      "text/plain": [
       "'19247943_1571294846222629_7357675221196322624_n-small.jpg'"
      ]
     },
     "execution_count": 35,
     "metadata": {},
     "output_type": "execute_result"
    }
   ],
   "source": [
    "processed[0][:-4] + '-small.jpg'"
   ]
  },
  {
   "cell_type": "code",
   "execution_count": null,
   "metadata": {},
   "outputs": [],
   "source": []
  }
 ],
 "metadata": {
  "kernelspec": {
   "display_name": "Python 3",
   "language": "python",
   "name": "python3"
  },
  "language_info": {
   "codemirror_mode": {
    "name": "ipython",
    "version": 3
   },
   "file_extension": ".py",
   "mimetype": "text/x-python",
   "name": "python",
   "nbconvert_exporter": "python",
   "pygments_lexer": "ipython3",
   "version": "3.5.3"
  }
 },
 "nbformat": 4,
 "nbformat_minor": 2
}
