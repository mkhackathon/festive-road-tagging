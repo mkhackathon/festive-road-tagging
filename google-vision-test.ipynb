{
 "cells": [
  {
   "cell_type": "markdown",
   "metadata": {},
   "source": [
    "# Documents\n",
    "\n",
    "* [Vision API overview](https://cloud.google.com/vision/docs/)\n",
    "* [Vision API docs](https://googlecloudplatform.github.io/google-cloud-python/latest/vision/index.html)\n",
    "\n",
    "\n",
    "* [Authentication](https://googlecloudplatform.github.io/google-cloud-python/latest/core/auth.html)\n",
    "\n",
    "## Data\n",
    "* [API console](https://console.cloud.google.com/apis/credentials?project=mk-hackathon-17)\n",
    "* [Bucket of images](https://console.cloud.google.com/storage/browser/festive-road-pictures/?project=mk-hackathon-17)"
   ]
  },
  {
   "cell_type": "code",
   "execution_count": 1,
   "metadata": {},
   "outputs": [],
   "source": [
    "def implicit():\n",
    "    from google.cloud import storage\n",
    "\n",
    "    # If you don't specify credentials when constructing the client, the\n",
    "    # client library will look for credentials in the environment.\n",
    "    storage_client = storage.Client()\n",
    "\n",
    "    # Make an authenticated API request\n",
    "    buckets = list(storage_client.list_buckets())\n",
    "    print(buckets)"
   ]
  },
  {
   "cell_type": "code",
   "execution_count": 2,
   "metadata": {},
   "outputs": [],
   "source": [
    "def explicit():\n",
    "    from google.cloud import storage\n",
    "\n",
    "    # Explicitly use service account credentials by specifying the private key\n",
    "    # file. All clients in google-cloud-python have this helper, see\n",
    "    # https://google-cloud-python.readthedocs.io/en/latest/core/modules.html\n",
    "    #   #google.cloud.client.Client.from_service_account_json\n",
    "    storage_client = storage.Client.from_service_account_json(\n",
    "        'secrets/mk-hackathon-17-37cb2e9f762d.json')\n",
    "\n",
    "    # Make an authenticated API request\n",
    "    buckets = list(storage_client.list_buckets())\n",
    "    print(buckets)"
   ]
  },
  {
   "cell_type": "code",
   "execution_count": 3,
   "metadata": {},
   "outputs": [
    {
     "name": "stdout",
     "output_type": "stream",
     "text": [
      "[<Bucket: festive-road-pictures>]\n"
     ]
    }
   ],
   "source": [
    "explicit()"
   ]
  },
  {
   "cell_type": "code",
   "execution_count": 4,
   "metadata": {},
   "outputs": [
    {
     "name": "stdout",
     "output_type": "stream",
     "text": [
      "[<Bucket: festive-road-pictures>]\n"
     ]
    }
   ],
   "source": [
    "implicit()"
   ]
  },
  {
   "cell_type": "code",
   "execution_count": 10,
   "metadata": {},
   "outputs": [],
   "source": [
    "import io\n",
    "import os\n",
    "\n",
    "# Imports the Google Cloud client library\n",
    "from google.cloud import vision\n",
    "from google.cloud.vision import types\n",
    "\n",
    "from google.oauth2 import service_account\n",
    "\n",
    "credentials = service_account.Credentials.from_service_account_file(\n",
    "   'secrets/mk-hackathon-17-37cb2e9f762d.json')"
   ]
  },
  {
   "cell_type": "code",
   "execution_count": 12,
   "metadata": {},
   "outputs": [],
   "source": [
    "!export GOOGLE_APPLICATION_CREDENTIALS=\"secrets/mk-hackathon-17-37cb2e9f762d.json\""
   ]
  },
  {
   "cell_type": "code",
   "execution_count": 14,
   "metadata": {},
   "outputs": [
    {
     "name": "stdout",
     "output_type": "stream",
     "text": [
      "Labels:\n",
      "mode of transport\n",
      "vehicle\n",
      "bicycle\n",
      "carriage\n",
      "sports equipment\n",
      "chariot\n",
      "cart\n",
      "product\n",
      "cycling\n",
      "recreation\n"
     ]
    }
   ],
   "source": [
    "# Instantiates a client\n",
    "client = vision.ImageAnnotatorClient()\n",
    "\n",
    "# client = vision.ImageAnnotatorClient(credentials=credentials)\n",
    "\n",
    "# The name of the image file to annotate\n",
    "# file_name = os.path.join(\n",
    "#     os.path.dirname(__file__),\n",
    "#     'resources/wakeupcat.jpg')\n",
    "file_name = '/backup/festive-road-pictures/2017/Dinosaurs 2017/Hilary-1024x682.jpg'\n",
    "\n",
    "\n",
    "# Loads the image into memory\n",
    "with io.open(file_name, 'rb') as image_file:\n",
    "    content = image_file.read()\n",
    "\n",
    "image = types.Image(content=content)\n",
    "\n",
    "# Performs label detection on the image file\n",
    "response = client.label_detection(image=image)\n",
    "labels = response.label_annotations\n",
    "\n",
    "print('Labels:')\n",
    "for label in labels:\n",
    "    print(label.description)"
   ]
  },
  {
   "cell_type": "code",
   "execution_count": 15,
   "metadata": {},
   "outputs": [],
   "source": [
    "response = client._image({\n",
    "    'image': {'source': {'image_uri': 'gs://festive-road-pictures/2017/dinosaurs-2017/Hilary-1024x682-small.jpg'}},\n",
    "    'features': [{'type': vision.enums.Feature.Type.LABEL_DETECTION}]\n",
    "})"
   ]
  },
  {
   "cell_type": "code",
   "execution_count": 20,
   "metadata": {},
   "outputs": [
    {
     "data": {
      "text/plain": [
       "10"
      ]
     },
     "execution_count": 20,
     "metadata": {},
     "output_type": "execute_result"
    }
   ],
   "source": [
    "len(response.label_annotations)"
   ]
  },
  {
   "cell_type": "code",
   "execution_count": 24,
   "metadata": {},
   "outputs": [
    {
     "name": "stdout",
     "output_type": "stream",
     "text": [
      "vehicle\t0.8931382894515991\n",
      "mode of transport\t0.8752551674842834\n",
      "bicycle\t0.7952459454536438\n",
      "sports equipment\t0.648780882358551\n",
      "cart\t0.6321647763252258\n",
      "chariot\t0.6195703744888306\n",
      "product\t0.6133628487586975\n",
      "carriage\t0.5829617381095886\n",
      "cycling\t0.5803667902946472\n",
      "recreation\t0.5047281384468079\n"
     ]
    }
   ],
   "source": [
    "for label in response.label_annotations:\n",
    "    print('{}\\t{}'.format(label.description, label.score))"
   ]
  },
  {
   "cell_type": "code",
   "execution_count": null,
   "metadata": {},
   "outputs": [],
   "source": []
  }
 ],
 "metadata": {
  "kernelspec": {
   "display_name": "Python 3",
   "language": "python",
   "name": "python3"
  },
  "language_info": {
   "codemirror_mode": {
    "name": "ipython",
    "version": 3
   },
   "file_extension": ".py",
   "mimetype": "text/x-python",
   "name": "python",
   "nbconvert_exporter": "python",
   "pygments_lexer": "ipython3",
   "version": "3.5.3"
  }
 },
 "nbformat": 4,
 "nbformat_minor": 2
}
