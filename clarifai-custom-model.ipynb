{
 "cells": [
  {
   "cell_type": "code",
   "execution_count": 18,
   "metadata": {},
   "outputs": [],
   "source": [
    "import configparser\n",
    "import requests\n",
    "import json\n",
    "import collections\n",
    "import random"
   ]
  },
  {
   "cell_type": "code",
   "execution_count": 2,
   "metadata": {},
   "outputs": [
    {
     "data": {
      "text/plain": [
       "['api_key', 'app_name']"
      ]
     },
     "execution_count": 2,
     "metadata": {},
     "output_type": "execute_result"
    }
   ],
   "source": [
    "config = configparser.ConfigParser()\n",
    "config.read('secrets/keys.ini')\n",
    "list(config['clarifai'].keys())"
   ]
  },
  {
   "cell_type": "code",
   "execution_count": 24,
   "metadata": {},
   "outputs": [
    {
     "data": {
      "text/plain": [
       "{'hand-tags': ['elephant'],\n",
       " 'url': 'https://scripts.njae.me.uk/festive-road-pictures/small/2017/festival-of-giants-2017/19247943_1571294846222629_7357675221196322624_n-small.jpg'}"
      ]
     },
     "execution_count": 24,
     "metadata": {},
     "output_type": "execute_result"
    }
   ],
   "source": [
    "with open('festival-of-giants-2017-hand-tags.json') as infile:\n",
    "    hand_tagged = json.load(infile)\n",
    "hand_tagged[0]"
   ]
  },
  {
   "cell_type": "code",
   "execution_count": 25,
   "metadata": {},
   "outputs": [
    {
     "data": {
      "text/plain": [
       "{'bees',\n",
       " 'butterfly',\n",
       " 'canvas',\n",
       " 'catepillar (sp?!)',\n",
       " 'costume',\n",
       " 'cycle bus',\n",
       " 'dragon',\n",
       " 'drummer',\n",
       " 'elephant',\n",
       " 'event space',\n",
       " 'fly',\n",
       " 'generic',\n",
       " 'goose',\n",
       " 'hummingbirds',\n",
       " 'installation',\n",
       " 'mechanism',\n",
       " 'puppet',\n",
       " 'triceratops'}"
      ]
     },
     "execution_count": 25,
     "metadata": {},
     "output_type": "execute_result"
    }
   ],
   "source": [
    "all_tags = set([k for i in hand_tagged for k in i['hand-tags']])\n",
    "all_tags"
   ]
  },
  {
   "cell_type": "code",
   "execution_count": 17,
   "metadata": {},
   "outputs": [
    {
     "data": {
      "text/plain": [
       "[('generic', 82),\n",
       " ('costume', 29),\n",
       " ('puppet', 20),\n",
       " ('elephant', 18),\n",
       " ('goose', 16),\n",
       " ('hummingbirds', 13),\n",
       " ('drummer', 7),\n",
       " ('installation', 7),\n",
       " ('fly', 6),\n",
       " ('mechanism', 6),\n",
       " ('triceratops', 5)]"
      ]
     },
     "execution_count": 17,
     "metadata": {},
     "output_type": "execute_result"
    }
   ],
   "source": [
    "collections.Counter([k for i in hand_tagged for k in i['hand-tags']]).most_common(11)"
   ]
  },
  {
   "cell_type": "code",
   "execution_count": 26,
   "metadata": {},
   "outputs": [
    {
     "data": {
      "text/plain": [
       "(215, 128, 87, 215)"
      ]
     },
     "execution_count": 26,
     "metadata": {},
     "output_type": "execute_result"
    }
   ],
   "source": [
    "train_set = random.sample(hand_tagged, 128)\n",
    "train_set_urls = [i['url'] for i in train_set]\n",
    "test_set = [i for i in hand_tagged if i['url'] not in train_set_urls]\n",
    "len(hand_tagged), len(train_set), len(test_set), len(train_set) + len(test_set)"
   ]
  },
  {
   "cell_type": "code",
   "execution_count": 27,
   "metadata": {},
   "outputs": [
    {
     "data": {
      "text/plain": [
       "{'hand-tags': ['puppet'],\n",
       " 'url': 'https://scripts.njae.me.uk/festive-road-pictures/small/2017/festival-of-giants-2017/IMG_9573-small.jpg'}"
      ]
     },
     "execution_count": 27,
     "metadata": {},
     "output_type": "execute_result"
    }
   ],
   "source": [
    "train_set[1]"
   ]
  },
  {
   "cell_type": "code",
   "execution_count": 28,
   "metadata": {},
   "outputs": [],
   "source": [
    "# with open('festival-of-giants-2017-training.json', 'w') as outfile:\n",
    "#     json.dump(train_set, outfile, indent=2)\n",
    "# with open('festival-of-giants-2017-testing.json', 'w') as outfile:\n",
    "#     json.dump(test_set, outfile, indent=2)    "
   ]
  },
  {
   "cell_type": "code",
   "execution_count": 29,
   "metadata": {},
   "outputs": [],
   "source": [
    "with open('festival-of-giants-2017-training.json') as infile:\n",
    "    train_set = json.load(infile)\n",
    "with open('festival-of-giants-2017-testing.json') as infile:\n",
    "    test_set = json.load(infile)    "
   ]
  },
  {
   "cell_type": "code",
   "execution_count": 12,
   "metadata": {},
   "outputs": [
    {
     "data": {
      "text/plain": [
       "[('generic', 83),\n",
       " ('costume', 27),\n",
       " ('puppet', 20),\n",
       " ('harminder', 18),\n",
       " ('goose', 16),\n",
       " ('hummingbirds', 13),\n",
       " ('drummer', 7),\n",
       " ('fly', 6),\n",
       " ('installation', 6),\n",
       " ('mechanism', 6),\n",
       " ('triceratops', 5)]"
      ]
     },
     "execution_count": 12,
     "metadata": {},
     "output_type": "execute_result"
    }
   ],
   "source": [
    "collections.Counter([k for i in hand_tagged for k in i['hand-tags']]).most_common(11)"
   ]
  },
  {
   "cell_type": "code",
   "execution_count": 31,
   "metadata": {},
   "outputs": [
    {
     "data": {
      "text/plain": [
       "(['costume',\n",
       "  'puppet',\n",
       "  'elephant',\n",
       "  'goose',\n",
       "  'hummingbirds',\n",
       "  'drummer',\n",
       "  'installation',\n",
       "  'fly',\n",
       "  'mechanism',\n",
       "  'triceratops'],\n",
       " 10)"
      ]
     },
     "execution_count": 31,
     "metadata": {},
     "output_type": "execute_result"
    }
   ],
   "source": [
    "all_concepts = [c[0] for c in \n",
    "                collections.Counter([k for i in hand_tagged for k in i['hand-tags']]).most_common(11)[1:]]\n",
    "all_concepts, len(all_concepts)"
   ]
  },
  {
   "cell_type": "code",
   "execution_count": 32,
   "metadata": {},
   "outputs": [],
   "source": [
    "def concepts_present(tags, concepts):\n",
    "    return [c for c in concepts if c in tags], [c for c in concepts if c not in tags]"
   ]
  },
  {
   "cell_type": "code",
   "execution_count": 33,
   "metadata": {},
   "outputs": [
    {
     "name": "stdout",
     "output_type": "stream",
     "text": [
      "['generic'] ([], ['costume', 'puppet', 'elephant', 'goose', 'hummingbirds', 'drummer', 'installation', 'fly', 'mechanism', 'triceratops'])\n",
      "['puppet'] (['puppet'], ['costume', 'elephant', 'goose', 'hummingbirds', 'drummer', 'installation', 'fly', 'mechanism', 'triceratops'])\n",
      "['puppet'] (['puppet'], ['costume', 'elephant', 'goose', 'hummingbirds', 'drummer', 'installation', 'fly', 'mechanism', 'triceratops'])\n",
      "['generic'] ([], ['costume', 'puppet', 'elephant', 'goose', 'hummingbirds', 'drummer', 'installation', 'fly', 'mechanism', 'triceratops'])\n",
      "['generic'] ([], ['costume', 'puppet', 'elephant', 'goose', 'hummingbirds', 'drummer', 'installation', 'fly', 'mechanism', 'triceratops'])\n"
     ]
    }
   ],
   "source": [
    "for i in train_set[:5]:\n",
    "    print(i['hand-tags'], concepts_present(i['hand-tags'], all_concepts))"
   ]
  },
  {
   "cell_type": "code",
   "execution_count": 36,
   "metadata": {},
   "outputs": [],
   "source": [
    "from clarifai import rest\n",
    "from clarifai.rest import ClarifaiApp\n",
    "from clarifai.rest import Image as ClImage\n",
    "\n",
    "app = ClarifaiApp(api_key=config['clarifai']['api_key'])"
   ]
  },
  {
   "cell_type": "code",
   "execution_count": null,
   "metadata": {},
   "outputs": [],
   "source": [
    "# img1 = ClImage(url=\"https://samples.clarifai.com/puppy.jpeg\", concepts=['boscoe'], not_concepts=['our_wedding'])\n",
    "# img2 = ClImage(url=\"https://samples.clarifai.com/wedding.jpg\", concepts=['our_wedding'], not_concepts=['cat','boscoe'])\n",
    "\n",
    "# app.inputs.bulk_create_images([img1, img2])"
   ]
  },
  {
   "cell_type": "code",
   "execution_count": 37,
   "metadata": {},
   "outputs": [
    {
     "data": {
      "text/plain": [
       "[<clarifai.rest.client.Image at 0x7feace84b128>,\n",
       " <clarifai.rest.client.Image at 0x7feace84b160>]"
      ]
     },
     "execution_count": 37,
     "metadata": {},
     "output_type": "execute_result"
    }
   ],
   "source": [
    "train_image_info = []\n",
    "for i in test_set:\n",
    "    url = i['url']\n",
    "    concs, not_concs = concepts_present(i['hand-tags'], all_concepts)\n",
    "    train_image_info.append(ClImage(url=url, concepts=concs, not_concepts=not_concs))\n",
    "train_image_info[:2]"
   ]
  },
  {
   "cell_type": "code",
   "execution_count": 38,
   "metadata": {
    "scrolled": true
   },
   "outputs": [
    {
     "data": {
      "text/plain": [
       "[<clarifai.rest.client.Image at 0x7feace8a2320>,\n",
       " <clarifai.rest.client.Image at 0x7feae176ec88>,\n",
       " <clarifai.rest.client.Image at 0x7feace8325c0>,\n",
       " <clarifai.rest.client.Image at 0x7feace832908>,\n",
       " <clarifai.rest.client.Image at 0x7feace83bc88>,\n",
       " <clarifai.rest.client.Image at 0x7feace7bf470>,\n",
       " <clarifai.rest.client.Image at 0x7feace7bf080>,\n",
       " <clarifai.rest.client.Image at 0x7feace7bf0f0>,\n",
       " <clarifai.rest.client.Image at 0x7feace7bf1d0>,\n",
       " <clarifai.rest.client.Image at 0x7feace7bf0b8>,\n",
       " <clarifai.rest.client.Image at 0x7feace7bf320>,\n",
       " <clarifai.rest.client.Image at 0x7feace7bf400>,\n",
       " <clarifai.rest.client.Image at 0x7feace7bf278>,\n",
       " <clarifai.rest.client.Image at 0x7feace7bf630>,\n",
       " <clarifai.rest.client.Image at 0x7feace7bf7b8>,\n",
       " <clarifai.rest.client.Image at 0x7feace7bf5f8>,\n",
       " <clarifai.rest.client.Image at 0x7feace7bf710>,\n",
       " <clarifai.rest.client.Image at 0x7feace7bf828>,\n",
       " <clarifai.rest.client.Image at 0x7feace7bf6a0>,\n",
       " <clarifai.rest.client.Image at 0x7feace7bf978>,\n",
       " <clarifai.rest.client.Image at 0x7feace7bf898>,\n",
       " <clarifai.rest.client.Image at 0x7feace7bfa20>,\n",
       " <clarifai.rest.client.Image at 0x7feace7bfa58>,\n",
       " <clarifai.rest.client.Image at 0x7feace7bfb38>,\n",
       " <clarifai.rest.client.Image at 0x7feace7bfb70>,\n",
       " <clarifai.rest.client.Image at 0x7feace7bfb00>,\n",
       " <clarifai.rest.client.Image at 0x7feace7bfbe0>,\n",
       " <clarifai.rest.client.Image at 0x7feace7bfcf8>,\n",
       " <clarifai.rest.client.Image at 0x7feace7bfc88>,\n",
       " <clarifai.rest.client.Image at 0x7feace7bfe10>,\n",
       " <clarifai.rest.client.Image at 0x7feace7bfe80>,\n",
       " <clarifai.rest.client.Image at 0x7feace7bf160>,\n",
       " <clarifai.rest.client.Image at 0x7feace7bff60>,\n",
       " <clarifai.rest.client.Image at 0x7feace7bffd0>,\n",
       " <clarifai.rest.client.Image at 0x7feace7bff28>,\n",
       " <clarifai.rest.client.Image at 0x7feace7bf668>,\n",
       " <clarifai.rest.client.Image at 0x7feace7bf550>,\n",
       " <clarifai.rest.client.Image at 0x7feace7bf860>,\n",
       " <clarifai.rest.client.Image at 0x7feae80b4da0>,\n",
       " <clarifai.rest.client.Image at 0x7feace7ac048>,\n",
       " <clarifai.rest.client.Image at 0x7feace7ac0b8>,\n",
       " <clarifai.rest.client.Image at 0x7feace7ac128>,\n",
       " <clarifai.rest.client.Image at 0x7feace7ac198>,\n",
       " <clarifai.rest.client.Image at 0x7feace7ac208>,\n",
       " <clarifai.rest.client.Image at 0x7feace7ac278>,\n",
       " <clarifai.rest.client.Image at 0x7feace7ac2e8>,\n",
       " <clarifai.rest.client.Image at 0x7feace7ac358>,\n",
       " <clarifai.rest.client.Image at 0x7feace7ac3c8>,\n",
       " <clarifai.rest.client.Image at 0x7feace7ac438>,\n",
       " <clarifai.rest.client.Image at 0x7feace7ac4a8>,\n",
       " <clarifai.rest.client.Image at 0x7feace7ac518>,\n",
       " <clarifai.rest.client.Image at 0x7feace7ac588>,\n",
       " <clarifai.rest.client.Image at 0x7feace7ac5f8>,\n",
       " <clarifai.rest.client.Image at 0x7feace7ac668>,\n",
       " <clarifai.rest.client.Image at 0x7feace7ac6d8>,\n",
       " <clarifai.rest.client.Image at 0x7feace7ac748>,\n",
       " <clarifai.rest.client.Image at 0x7feace7ac7b8>,\n",
       " <clarifai.rest.client.Image at 0x7feace7ac828>,\n",
       " <clarifai.rest.client.Image at 0x7feace7ac898>,\n",
       " <clarifai.rest.client.Image at 0x7feace7ac908>,\n",
       " <clarifai.rest.client.Image at 0x7feace7ac978>,\n",
       " <clarifai.rest.client.Image at 0x7feace7ac9e8>,\n",
       " <clarifai.rest.client.Image at 0x7feace84c4a8>,\n",
       " <clarifai.rest.client.Image at 0x7feace84c400>,\n",
       " <clarifai.rest.client.Image at 0x7feace84c278>,\n",
       " <clarifai.rest.client.Image at 0x7feace84cfd0>,\n",
       " <clarifai.rest.client.Image at 0x7feace84c438>,\n",
       " <clarifai.rest.client.Image at 0x7feace84c080>,\n",
       " <clarifai.rest.client.Image at 0x7feace84c390>,\n",
       " <clarifai.rest.client.Image at 0x7feace84c668>,\n",
       " <clarifai.rest.client.Image at 0x7feace84c518>,\n",
       " <clarifai.rest.client.Image at 0x7feace84c320>,\n",
       " <clarifai.rest.client.Image at 0x7feace84c550>,\n",
       " <clarifai.rest.client.Image at 0x7feace84c630>,\n",
       " <clarifai.rest.client.Image at 0x7feace84c9e8>,\n",
       " <clarifai.rest.client.Image at 0x7feace84c4e0>,\n",
       " <clarifai.rest.client.Image at 0x7feace84c0b8>,\n",
       " <clarifai.rest.client.Image at 0x7feace84c6d8>,\n",
       " <clarifai.rest.client.Image at 0x7feace84ba58>,\n",
       " <clarifai.rest.client.Image at 0x7feace84b668>,\n",
       " <clarifai.rest.client.Image at 0x7feace84bc88>,\n",
       " <clarifai.rest.client.Image at 0x7feace84bac8>,\n",
       " <clarifai.rest.client.Image at 0x7feace84b3c8>,\n",
       " <clarifai.rest.client.Image at 0x7feace84b978>,\n",
       " <clarifai.rest.client.Image at 0x7feace84be80>,\n",
       " <clarifai.rest.client.Image at 0x7feace84b438>,\n",
       " <clarifai.rest.client.Image at 0x7feace84b9b0>]"
      ]
     },
     "execution_count": 38,
     "metadata": {},
     "output_type": "execute_result"
    }
   ],
   "source": [
    "app.inputs.bulk_create_images(train_image_info)"
   ]
  },
  {
   "cell_type": "code",
   "execution_count": 39,
   "metadata": {},
   "outputs": [
    {
     "data": {
      "text/plain": [
       "<clarifai.rest.client.Model at 0x7feace83b828>"
      ]
     },
     "execution_count": 39,
     "metadata": {},
     "output_type": "execute_result"
    }
   ],
   "source": [
    "model = app.models.create('festiveroad', concepts=all_concepts)\n",
    "model"
   ]
  },
  {
   "cell_type": "code",
   "execution_count": 43,
   "metadata": {},
   "outputs": [
    {
     "data": {
      "text/plain": [
       "<clarifai.rest.client.Model at 0x7feace732828>"
      ]
     },
     "execution_count": 43,
     "metadata": {},
     "output_type": "execute_result"
    }
   ],
   "source": [
    "model.train()"
   ]
  },
  {
   "cell_type": "code",
   "execution_count": 45,
   "metadata": {},
   "outputs": [
    {
     "data": {
      "text/plain": [
       "{'outputs': [{'created_at': '2017-11-12T12:27:19.824049395Z',\n",
       "   'data': {'concepts': [{'app_id': 'b8033f6111bb45eba4796dd3c5f0f173',\n",
       "      'id': 'triceratops',\n",
       "      'name': 'triceratops',\n",
       "      'value': 0.94750464},\n",
       "     {'app_id': 'b8033f6111bb45eba4796dd3c5f0f173',\n",
       "      'id': 'puppet',\n",
       "      'name': 'puppet',\n",
       "      'value': 0.039329555},\n",
       "     {'app_id': 'b8033f6111bb45eba4796dd3c5f0f173',\n",
       "      'id': 'goose',\n",
       "      'name': 'goose',\n",
       "      'value': 0.006065057},\n",
       "     {'app_id': 'b8033f6111bb45eba4796dd3c5f0f173',\n",
       "      'id': 'costume',\n",
       "      'name': 'costume',\n",
       "      'value': 0.00553496},\n",
       "     {'app_id': 'b8033f6111bb45eba4796dd3c5f0f173',\n",
       "      'id': 'fly',\n",
       "      'name': 'fly',\n",
       "      'value': 0.0043024104},\n",
       "     {'app_id': 'b8033f6111bb45eba4796dd3c5f0f173',\n",
       "      'id': 'elephant',\n",
       "      'name': 'elephant',\n",
       "      'value': 0.0033425384},\n",
       "     {'app_id': 'b8033f6111bb45eba4796dd3c5f0f173',\n",
       "      'id': 'hummingbirds',\n",
       "      'name': 'hummingbirds',\n",
       "      'value': 6.677292e-05},\n",
       "     {'app_id': 'b8033f6111bb45eba4796dd3c5f0f173',\n",
       "      'id': 'installation',\n",
       "      'name': 'installation',\n",
       "      'value': 4.229147e-05},\n",
       "     {'app_id': 'b8033f6111bb45eba4796dd3c5f0f173',\n",
       "      'id': 'drummer',\n",
       "      'name': 'drummer',\n",
       "      'value': 1.3406249e-05},\n",
       "     {'app_id': 'b8033f6111bb45eba4796dd3c5f0f173',\n",
       "      'id': 'mechanism',\n",
       "      'name': 'mechanism',\n",
       "      'value': 9.5107856e-07}]},\n",
       "   'id': 'd1478920dae0492b8d9b3c37b4ef14e4',\n",
       "   'input': {'data': {'image': {'url': 'https://scripts.njae.me.uk/festive-road-pictures/small/2017/festival-of-giants-2017/19260709_1906157629708906_941293702425961197_n-small.jpg'}},\n",
       "    'id': 'f49b263717054883b5b74e258fe27cc1'},\n",
       "   'model': {'app_id': 'b8033f6111bb45eba4796dd3c5f0f173',\n",
       "    'created_at': '2017-11-12T12:19:43.496982Z',\n",
       "    'id': 'festiveroad',\n",
       "    'model_version': {'created_at': '2017-11-12T12:24:41.872918Z',\n",
       "     'id': 'fd58c5cd713d42469141c5c0277d9029',\n",
       "     'status': {'code': 21100, 'description': 'Model trained successfully'},\n",
       "     'total_input_count': 87},\n",
       "    'name': 'festiveroad',\n",
       "    'output_info': {'message': 'Show output_info with: GET /models/{model_id}/output_info',\n",
       "     'output_config': {'closed_environment': False,\n",
       "      'concepts_mutually_exclusive': False},\n",
       "     'type': 'concept',\n",
       "     'type_ext': 'concept'}},\n",
       "   'status': {'code': 10000, 'description': 'Ok'}}],\n",
       " 'status': {'code': 10000, 'description': 'Ok'}}"
      ]
     },
     "execution_count": 45,
     "metadata": {},
     "output_type": "execute_result"
    }
   ],
   "source": [
    "trained_model = app.models.get('festiveroad')\n",
    "trained_model.predict_by_url(test_set[0]['url'])"
   ]
  },
  {
   "cell_type": "code",
   "execution_count": 46,
   "metadata": {},
   "outputs": [
    {
     "data": {
      "text/plain": [
       "{'hand-tags': ['triceratops'],\n",
       " 'url': 'https://scripts.njae.me.uk/festive-road-pictures/small/2017/festival-of-giants-2017/19260709_1906157629708906_941293702425961197_n-small.jpg'}"
      ]
     },
     "execution_count": 46,
     "metadata": {},
     "output_type": "execute_result"
    }
   ],
   "source": [
    "test_set[0]"
   ]
  },
  {
   "cell_type": "code",
   "execution_count": 47,
   "metadata": {},
   "outputs": [
    {
     "data": {
      "text/plain": [
       "87"
      ]
     },
     "execution_count": 47,
     "metadata": {},
     "output_type": "execute_result"
    }
   ],
   "source": [
    "predictions = [trained_model.predict_by_url(i['url']) for i in test_set]\n",
    "len(predictions)"
   ]
  },
  {
   "cell_type": "code",
   "execution_count": 60,
   "metadata": {},
   "outputs": [
    {
     "data": {
      "text/plain": [
       "[('hummingbirds', 0.935379), ('goose', 0.03203959), ('costume', 0.0069925818)]"
      ]
     },
     "execution_count": 60,
     "metadata": {},
     "output_type": "execute_result"
    }
   ],
   "source": [
    "[(c['name'], c['value']) for c in predictions[1]['outputs'][0]['data']['concepts'][:3]]"
   ]
  },
  {
   "cell_type": "code",
   "execution_count": 59,
   "metadata": {},
   "outputs": [
    {
     "data": {
      "text/plain": [
       "{'hand-tags': ['hummingbirds'],\n",
       " 'url': 'https://scripts.njae.me.uk/festive-road-pictures/small/2017/festival-of-giants-2017/19399619_1906157669708902_5236259890165828680_n-small.jpg'}"
      ]
     },
     "execution_count": 59,
     "metadata": {},
     "output_type": "execute_result"
    }
   ],
   "source": [
    "test_set[1]"
   ]
  },
  {
   "cell_type": "code",
   "execution_count": 63,
   "metadata": {},
   "outputs": [
    {
     "data": {
      "text/plain": [
       "'https://scripts.njae.me.uk/festive-road-pictures/small/2017/festival-of-giants-2017/19399619_1906157669708902_5236259890165828680_n-small.jpg'"
      ]
     },
     "execution_count": 63,
     "metadata": {},
     "output_type": "execute_result"
    }
   ],
   "source": [
    "predictions[1]['outputs'][0]['input']['data']['image']['url']"
   ]
  },
  {
   "cell_type": "code",
   "execution_count": 64,
   "metadata": {},
   "outputs": [],
   "source": [
    "def hand_tags_by_url(url, tagged_images):\n",
    "    return [i['hand-tags'] for i in tagged_images if i['url'] == url][0]"
   ]
  },
  {
   "cell_type": "code",
   "execution_count": 65,
   "metadata": {},
   "outputs": [
    {
     "data": {
      "text/plain": [
       "['hummingbirds']"
      ]
     },
     "execution_count": 65,
     "metadata": {},
     "output_type": "execute_result"
    }
   ],
   "source": [
    "hand_tags_by_url(predictions[1]['outputs'][0]['input']['data']['image']['url'], test_set)"
   ]
  },
  {
   "cell_type": "code",
   "execution_count": 71,
   "metadata": {},
   "outputs": [],
   "source": [
    "def url_of_prediction(prediction):\n",
    "    return prediction['outputs'][0]['input']['data']['image']['url']"
   ]
  },
  {
   "cell_type": "code",
   "execution_count": 68,
   "metadata": {},
   "outputs": [],
   "source": [
    "def tags_of_prediction(prediction):\n",
    "    return [(c['name'], c['value']) for c in prediction['outputs'][0]['data']['concepts']]"
   ]
  },
  {
   "cell_type": "code",
   "execution_count": 75,
   "metadata": {},
   "outputs": [],
   "source": [
    "with open('clarifai-model-1-predictions.json', 'w') as outfile:\n",
    "    json.dump(predictions, outfile, indent=2)"
   ]
  },
  {
   "cell_type": "code",
   "execution_count": 73,
   "metadata": {},
   "outputs": [
    {
     "name": "stdout",
     "output_type": "stream",
     "text": [
      "['triceratops'] [('triceratops', 0.94750464), ('puppet', 0.039329555), ('goose', 0.006065057)]\n",
      "['hummingbirds'] [('hummingbirds', 0.935379), ('goose', 0.03203959), ('costume', 0.0069925818)]\n",
      "['bees'] [('costume', 0.10188919), ('puppet', 0.002372923), ('goose', 0.0014373008)]\n",
      "['elephant'] [('elephant', 0.9815099), ('goose', 0.018219769), ('triceratops', 0.013795066)]\n",
      "['cycle bus'] [('elephant', 0.016256927), ('costume', 0.012157428), ('triceratops', 0.009599909)]\n",
      "['elephant'] [('elephant', 0.9861275), ('triceratops', 0.044785663), ('mechanism', 0.0030194276)]\n",
      "['canvas'] [('goose', 0.0067580296), ('installation', 0.0012529811), ('triceratops', 0.0006780008)]\n",
      "['generic'] [('puppet', 0.015682885), ('drummer', 0.0033000733), ('triceratops', 0.0005197768)]\n",
      "['hummingbirds'] [('hummingbirds', 0.9576477), ('costume', 0.016936693), ('fly', 0.0048118504)]\n",
      "['generic'] [('puppet', 0.0038093843), ('mechanism', 0.0016142704), ('installation', 0.00045316262)]\n",
      "['generic'] [('costume', 0.27737358), ('fly', 0.008431583), ('hummingbirds', 0.0051066475)]\n",
      "['costume'] [('costume', 0.98991853), ('hummingbirds', 0.026980756), ('fly', 0.0015860619)]\n",
      "['generic'] [('fly', 0.019265825), ('puppet', 0.007834807), ('triceratops', 0.0036449705)]\n",
      "['bees', 'costume'] [('costume', 0.9848571), ('fly', 0.0055197338), ('puppet', 0.0007288633)]\n",
      "['generic'] [('fly', 0.05535023), ('costume', 0.053696647), ('puppet', 0.0017913049)]\n",
      "['generic'] [('costume', 0.012833066), ('fly', 0.002228271), ('puppet', 0.0018354441)]\n",
      "['generic'] [('costume', 0.0020881789), ('drummer', 0.0013342007), ('installation', 0.00037610185)]\n",
      "['goose'] [('goose', 0.9818393), ('costume', 0.106141575), ('triceratops', 0.0043974565)]\n",
      "['generic'] [('drummer', 0.013604175), ('puppet', 0.0032793726), ('triceratops', 0.0018099757)]\n",
      "['generic'] [('costume', 0.01613375), ('goose', 0.015861819), ('elephant', 0.0006971552)]\n",
      "['costume'] [('costume', 0.93475246), ('puppet', 0.012736269), ('triceratops', 0.0006692726)]\n",
      "['costume'] [('costume', 0.938443), ('fly', 0.0017593883), ('hummingbirds', 0.0006356548)]\n",
      "['canvas'] [('goose', 0.002105007), ('hummingbirds', 0.0017206323), ('installation', 0.0016939272)]\n",
      "['elephant', 'costume'] [('elephant', 0.9844283), ('costume', 0.90179586), ('triceratops', 0.054694634)]\n",
      "['costume'] [('costume', 0.8553855), ('fly', 0.0052688187), ('triceratops', 0.0024193078)]\n",
      "['puppet'] [('puppet', 0.96953434), ('costume', 0.039589126), ('elephant', 0.0005700103)]\n",
      "['costume'] [('costume', 0.95476574), ('goose', 0.0035618693), ('installation', 0.00029502745)]\n",
      "['generic'] [('puppet', 0.041906115), ('costume', 0.03472506), ('fly', 0.009659509)]\n",
      "['puppet'] [('puppet', 0.89026296), ('triceratops', 0.07136673), ('fly', 0.0030617833)]\n",
      "['drummer'] [('drummer', 0.9806784), ('triceratops', 0.0031765003), ('costume', 0.0021003925)]\n",
      "['hummingbirds'] [('hummingbirds', 0.989237), ('goose', 0.029981527), ('installation', 0.0088334)]\n",
      "['bees'] [('costume', 0.11874897), ('triceratops', 0.0007690207), ('puppet', 0.00068883126)]\n",
      "['generic'] [('costume', 0.040974334), ('triceratops', 0.004747484), ('goose', 0.0038853919)]\n",
      "['hummingbirds'] [('hummingbirds', 0.9916705), ('installation', 0.029035678), ('goose', 0.015761457)]\n",
      "['hummingbirds'] [('hummingbirds', 0.9415458), ('goose', 0.008286221), ('installation', 0.0026979141)]\n",
      "['puppet'] [('puppet', 0.8408531), ('costume', 0.12012206), ('triceratops', 0.015555955)]\n",
      "['triceratops'] [('triceratops', 0.90773666), ('fly', 0.008005516), ('goose', 0.0077199256)]\n",
      "['installation'] [('installation', 0.9712992), ('costume', 0.010586025), ('hummingbirds', 0.003955148)]\n",
      "['generic'] [('fly', 0.044551987), ('costume', 0.010329557), ('puppet', 0.0016787929)]\n",
      "['puppet'] [('puppet', 0.91978), ('triceratops', 0.0042208475), ('goose', 0.00035323398)]\n",
      "['puppet'] [('puppet', 0.9786274), ('mechanism', 0.0028312611), ('triceratops', 0.0025647054)]\n",
      "['elephant', 'mechanism'] [('mechanism', 0.9934916), ('elephant', 0.98881835), ('installation', 0.0013476568)]\n",
      "['hummingbirds'] [('hummingbirds', 0.9825303), ('goose', 0.032102678), ('installation', 0.009980904)]\n",
      "['generic'] [('triceratops', 0.012156884), ('costume', 0.0057662465), ('puppet', 0.001639297)]\n",
      "['generic'] [('drummer', 0.029423375), ('costume', 0.001603509), ('installation', 0.0002111287)]\n",
      "['goose', 'costume'] [('costume', 0.99126923), ('goose', 0.9517128), ('elephant', 0.0034472372)]\n",
      "['goose', 'costume'] [('goose', 0.9700962), ('costume', 0.87401855), ('fly', 0.013757123)]\n",
      "['costume'] [('costume', 0.98828214), ('goose', 0.041893084), ('puppet', 0.0006616401)]\n",
      "['goose'] [('goose', 0.9314533), ('costume', 0.028714137), ('hummingbirds', 0.0076166345)]\n",
      "['generic'] [('costume', 0.006124415), ('puppet', 0.0025618868), ('triceratops', 0.00060161314)]\n",
      "['generic'] [('goose', 0.014824369), ('triceratops', 0.002735892), ('costume', 0.0018521529)]\n",
      "['generic'] [('fly', 0.06421139), ('goose', 0.037096456), ('hummingbirds', 0.025519501)]\n",
      "['generic'] [('costume', 0.00904884), ('puppet', 0.00024418786), ('installation', 0.00021393281)]\n",
      "['costume'] [('costume', 0.89786184), ('puppet', 0.06284934), ('goose', 0.012298568)]\n",
      "['generic'] [('costume', 0.059912637), ('fly', 0.004748022), ('puppet', 0.004316165)]\n",
      "['fly'] [('fly', 0.92364323), ('triceratops', 0.01528547), ('puppet', 0.011572971)]\n",
      "['triceratops'] [('triceratops', 0.94366264), ('puppet', 0.02217304), ('elephant', 0.0068974523)]\n",
      "['generic'] [('costume', 0.0010296725), ('puppet', 0.0007349923), ('drummer', 0.0006057422)]\n",
      "['elephant'] [('elephant', 0.97305614), ('costume', 0.11491579), ('triceratops', 0.00874667)]\n",
      "['elephant'] [('elephant', 0.9862521), ('costume', 0.039510015), ('goose', 0.008191652)]\n",
      "['generic'] [('costume', 0.007885353), ('installation', 0.00041245646), ('drummer', 0.00039167795)]\n",
      "['generic'] [('costume', 0.005240313), ('goose', 0.003207149), ('triceratops', 0.0008818674)]\n",
      "['goose'] [('goose', 0.9252805), ('hummingbirds', 0.04973117), ('fly', 0.0067842426)]\n",
      "['goose'] [('goose', 0.9543645), ('hummingbirds', 0.021255849), ('triceratops', 0.018220417)]\n",
      "['elephant'] [('elephant', 0.99591476), ('triceratops', 0.043553617), ('costume', 0.004374633)]\n",
      "['costume'] [('costume', 0.98566127), ('goose', 0.016892528), ('hummingbirds', 0.0071784244)]\n",
      "['costume'] [('costume', 0.9504508), ('goose', 0.027205111), ('hummingbirds', 0.027008437)]\n",
      "['costume'] [('costume', 0.98751384), ('goose', 0.00897818), ('hummingbirds', 0.002539475)]\n",
      "['elephant'] [('elephant', 0.9919825), ('costume', 0.08268719), ('installation', 0.002233574)]\n",
      "['drummer'] [('drummer', 0.99849117), ('puppet', 0.013410144), ('costume', 0.009552201)]\n",
      "['drummer'] [('drummer', 0.9998073), ('puppet', 0.008313817), ('costume', 0.0020937559)]\n",
      "['drummer'] [('drummer', 0.99571604), ('puppet', 0.0014354193), ('triceratops', 0.0005174019)]\n",
      "['drummer'] [('drummer', 0.99963105), ('puppet', 0.0067987037), ('triceratops', 0.000831884)]\n",
      "['costume'] [('costume', 0.9777549), ('hummingbirds', 0.0028221996), ('goose', 0.0014057718)]\n",
      "[] [('costume', 0.19439296), ('puppet', 0.03348043), ('goose', 0.00512689)]\n",
      "['generic', 'installation'] [('installation', 0.97263247), ('goose', 0.01641607), ('hummingbirds', 0.008494158)]\n",
      "['puppet'] [('puppet', 0.9818918), ('mechanism', 0.002564458), ('goose', 0.00086827547)]\n",
      "['puppet'] [('puppet', 0.99023646), ('mechanism', 0.0032759751), ('goose', 0.0010525264)]\n",
      "['generic'] [('puppet', 0.0030063519), ('drummer', 0.0027172328), ('triceratops', 0.0018101713)]\n",
      "['generic'] [('installation', 0.0019416673), ('goose', 0.00033763194), ('costume', 0.0001588922)]\n",
      "['generic'] [('drummer', 0.0040799337), ('hummingbirds', 0.0004454591), ('installation', 0.00043079417)]\n",
      "['generic'] [('installation', 0.003479482), ('drummer', 0.00069077185), ('hummingbirds', 0.00030324794)]\n",
      "['generic'] [('installation', 0.0042909533), ('goose', 0.00215111), ('mechanism', 0.00055962265)]\n",
      "['generic'] [('puppet', 0.02713406), ('triceratops', 0.017209679), ('fly', 0.0050113536)]\n",
      "['mechanism'] [('mechanism', 0.9874135), ('puppet', 0.0015961988), ('installation', 0.0007482058)]\n",
      "['mechanism'] [('mechanism', 0.9903459), ('elephant', 0.0017389496), ('puppet', 0.0015146018)]\n",
      "['goose'] [('goose', 0.9688562), ('installation', 0.009254774), ('hummingbirds', 0.0054475563)]\n"
     ]
    }
   ],
   "source": [
    "for p in predictions:\n",
    "    url = url_of_prediction(p)\n",
    "    found_tags = [t[0] for t in tags_of_prediction(p) if t[1] > 0.8]\n",
    "    print(hand_tags_by_url(url, test_set), tags_of_prediction(p)[:3])"
   ]
  },
  {
   "cell_type": "code",
   "execution_count": 77,
   "metadata": {},
   "outputs": [
    {
     "name": "stdout",
     "output_type": "stream",
     "text": [
      "['triceratops'] ['triceratops']\n",
      "['hummingbirds'] ['hummingbirds']\n",
      "[] []\n",
      "['elephant'] ['elephant']\n",
      "[] []\n",
      "['elephant'] ['elephant']\n",
      "[] []\n",
      "[] []\n",
      "['hummingbirds'] ['hummingbirds']\n",
      "[] []\n",
      "[] []\n",
      "['costume'] ['costume']\n",
      "[] []\n",
      "['costume'] ['costume']\n",
      "[] []\n",
      "[] []\n",
      "[] []\n",
      "['goose'] ['goose']\n",
      "[] []\n",
      "[] []\n",
      "['costume'] ['costume']\n",
      "['costume'] ['costume']\n",
      "[] []\n",
      "['elephant', 'costume'] ['elephant', 'costume']\n",
      "['costume'] ['costume']\n",
      "['puppet'] ['puppet']\n",
      "['costume'] ['costume']\n",
      "[] []\n",
      "['puppet'] ['puppet']\n",
      "['drummer'] ['drummer']\n",
      "['hummingbirds'] ['hummingbirds']\n",
      "[] []\n",
      "[] []\n",
      "['hummingbirds'] ['hummingbirds']\n",
      "['hummingbirds'] ['hummingbirds']\n",
      "['puppet'] ['puppet']\n",
      "['triceratops'] ['triceratops']\n",
      "['installation'] ['installation']\n",
      "[] []\n",
      "['puppet'] ['puppet']\n",
      "['puppet'] ['puppet']\n",
      "['elephant', 'mechanism'] ['mechanism', 'elephant']\n",
      "['hummingbirds'] ['hummingbirds']\n",
      "[] []\n",
      "[] []\n",
      "['goose', 'costume'] ['costume', 'goose']\n",
      "['goose', 'costume'] ['goose', 'costume']\n",
      "['costume'] ['costume']\n",
      "['goose'] ['goose']\n",
      "[] []\n",
      "[] []\n",
      "[] []\n",
      "[] []\n",
      "['costume'] ['costume']\n",
      "[] []\n",
      "['fly'] ['fly']\n",
      "['triceratops'] ['triceratops']\n",
      "[] []\n",
      "['elephant'] ['elephant']\n",
      "['elephant'] ['elephant']\n",
      "[] []\n",
      "[] []\n",
      "['goose'] ['goose']\n",
      "['goose'] ['goose']\n",
      "['elephant'] ['elephant']\n",
      "['costume'] ['costume']\n",
      "['costume'] ['costume']\n",
      "['costume'] ['costume']\n",
      "['elephant'] ['elephant']\n",
      "['drummer'] ['drummer']\n",
      "['drummer'] ['drummer']\n",
      "['drummer'] ['drummer']\n",
      "['drummer'] ['drummer']\n",
      "['costume'] ['costume']\n",
      "[] []\n",
      "['installation'] ['installation']\n",
      "['puppet'] ['puppet']\n",
      "['puppet'] ['puppet']\n",
      "[] []\n",
      "[] []\n",
      "[] []\n",
      "[] []\n",
      "[] []\n",
      "[] []\n",
      "['mechanism'] ['mechanism']\n",
      "['mechanism'] ['mechanism']\n",
      "['goose'] ['goose']\n"
     ]
    }
   ],
   "source": [
    "for p in predictions:\n",
    "    url = url_of_prediction(p)\n",
    "    found_tags = [t[0] for t in tags_of_prediction(p) if t[1] > 0.8]\n",
    "    given_tags = [t for t in hand_tags_by_url(url, test_set) if t in all_concepts]\n",
    "    print(given_tags, found_tags)"
   ]
  },
  {
   "cell_type": "code",
   "execution_count": 78,
   "metadata": {},
   "outputs": [],
   "source": [
    "with open('random_images_with_tags.json') as infile:\n",
    "    random_set = json.load(infile)"
   ]
  },
  {
   "cell_type": "code",
   "execution_count": 79,
   "metadata": {},
   "outputs": [
    {
     "data": {
      "text/plain": [
       "{'name': 'santa_and_the_seriously_magical_xmas_ride_1_(36)-small.jpg',\n",
       " 'tags': ['child',\n",
       "  'group',\n",
       "  'son',\n",
       "  'people',\n",
       "  'family',\n",
       "  'indoors',\n",
       "  'boy',\n",
       "  'woman',\n",
       "  'girl',\n",
       "  'man',\n",
       "  'togetherness',\n",
       "  'fun',\n",
       "  'portrait',\n",
       "  'education',\n",
       "  'offspring',\n",
       "  'four',\n",
       "  'sibling',\n",
       "  'elementary school',\n",
       "  'friendship',\n",
       "  'enjoyment'],\n",
       " 'url': 'https://scripts.njae.me.uk/festive-road-pictures/small/2008/santa_and_the_magical_christmas_2008/santa_and_the_seriously_magical_xmas_ride_1_(36)-small.jpg'}"
      ]
     },
     "execution_count": 79,
     "metadata": {},
     "output_type": "execute_result"
    }
   ],
   "source": [
    "random_set[0]"
   ]
  },
  {
   "cell_type": "code",
   "execution_count": 80,
   "metadata": {},
   "outputs": [
    {
     "name": "stdout",
     "output_type": "stream",
     "text": [
      "https://scripts.njae.me.uk/festive-road-pictures/small/2008/santa_and_the_magical_christmas_2008/santa_and_the_seriously_magical_xmas_ride_1_(36)-small.jpg\n",
      "https://scripts.njae.me.uk/festive-road-pictures/small/2008/santa_and_the_magical_christmas_2008/santa_and_the_seriously_magical_xmas_ride_1_(48)-small.jpg\n",
      "https://scripts.njae.me.uk/festive-road-pictures/small/2008/santa_and_the_magical_christmas_2008/santa_and_the_seriously_magical_xmas_ride_1_(5)-small.jpg\n",
      "https://scripts.njae.me.uk/festive-road-pictures/small/2008/seriously_magical_xmas/festive_road__28-small.jpg\n",
      "https://scripts.njae.me.uk/festive-road-pictures/small/2009/brighton_tea_party_jul_2009/DSC_0102-small.jpg\n",
      "https://scripts.njae.me.uk/festive-road-pictures/small/2009/brighton_tea_party_jul_2009/DSC_0107-small.jpg\n",
      "https://scripts.njae.me.uk/festive-road-pictures/small/2009/brighton_tea_party_jul_2009/DSC_0227-small.jpg\n",
      "https://scripts.njae.me.uk/festive-road-pictures/small/2009/brighton_tea_party_jul_2009/DSC_0252-small.jpg\n",
      "https://scripts.njae.me.uk/festive-road-pictures/small/2009/Diwali_Oct_2009/diwali_nothampton2009_290-small.jpg\n",
      "https://scripts.njae.me.uk/festive-road-pictures/small/2009/Diwali_Oct_2009/diwali_nothampton2009_329-small.jpg\n",
      "https://scripts.njae.me.uk/festive-road-pictures/small/2009/fascination/14.2.09_486-small.jpg\n",
      "https://scripts.njae.me.uk/festive-road-pictures/small/2009/fascination/DSC_0089.JPG-small.jpg\n",
      "https://scripts.njae.me.uk/festive-road-pictures/small/2009/fascination/DSCF5803-small.jpg\n",
      "https://scripts.njae.me.uk/festive-road-pictures/small/2009/fascination/puppet_2009_(20)-small.jpg\n",
      "https://scripts.njae.me.uk/festive-road-pictures/small/2009/fascination/puppet_2009_(27)-small.jpg\n",
      "https://scripts.njae.me.uk/festive-road-pictures/small/2009/festive_road_sept_2009-jpegs/festive_road_puppet_2009-mk_(22)-small.jpg\n",
      "https://scripts.njae.me.uk/festive-road-pictures/small/2009/festive_road_sept_2009-jpegs/mk_champion_(96)-small.jpg\n",
      "https://scripts.njae.me.uk/festive-road-pictures/small/2009/festive_road_sept_2009-jpegs/mk_chapmion_(92b)-small.jpg\n",
      "https://scripts.njae.me.uk/festive-road-pictures/small/2009/isle_of_wight/isle_of_wight_ryde__2009_133-small.jpg\n",
      "https://scripts.njae.me.uk/festive-road-pictures/small/2009/LUTS_-_Nov_2009/festive_road_lantern_festival_november_2009-pix_jason_hurst_(123)-small.jpg\n",
      "https://scripts.njae.me.uk/festive-road-pictures/small/2009/LUTS_-_Nov_2009/festive_road_lantern_festival_november_2009-pix_jason_hurst_(158)-small.jpg\n",
      "https://scripts.njae.me.uk/festive-road-pictures/small/2009/LUTS_-_Nov_2009/festive_road_lantern_festival_november_2009-pix_jason_hurst_(24)-small.jpg\n",
      "https://scripts.njae.me.uk/festive-road-pictures/small/2009/LUTS_-_Nov_2009/festive_road_lantern_festival_november_2009-pix_jason_hurst_(73)-small.jpg\n",
      "https://scripts.njae.me.uk/festive-road-pictures/small/2009/mk_carnival_arts_training_course_jun_2009/DOne_2-small.jpg\n",
      "https://scripts.njae.me.uk/festive-road-pictures/small/2009/mk_carnival_arts_training_course_jun_2009/DSC_0120-small.jpg\n",
      "https://scripts.njae.me.uk/festive-road-pictures/small/2009/mk_carnival_arts_training_course_jun_2009/DSC_0160-small.jpg\n",
      "https://scripts.njae.me.uk/festive-road-pictures/small/2009/mk_carnival_arts_training_course_jun_2009/DSC_0255-small.jpg\n",
      "https://scripts.njae.me.uk/festive-road-pictures/small/2009/mk_carnival_arts_training_course_jun_2009/DSC_0291-small.jpg\n",
      "https://scripts.njae.me.uk/festive-road-pictures/small/2009/mk_carnival_arts_training_course_jun_2009/FR_9th_JUNE_TRAINING_078-small.jpg\n",
      "https://scripts.njae.me.uk/festive-road-pictures/small/2009/Shoe_of_shoes/DSC_0104-small.jpg\n",
      "https://scripts.njae.me.uk/festive-road-pictures/small/2009/shoe_town_parade_aug_2009/DBI_0050-small.jpg\n",
      "https://scripts.njae.me.uk/festive-road-pictures/small/2009/SImon_Northampton_Carnival_Arts_Training/DSC_0074-small.jpg\n",
      "https://scripts.njae.me.uk/festive-road-pictures/small/2009/tea_cups_and_w_bletchley_jun_2009/pre_carnival_schools_june_2009_(6)-small.jpg\n",
      "https://scripts.njae.me.uk/festive-road-pictures/small/2009/tea_cups_and_w_bletchley_jun_2009/pre_carnival_schools_june_2009_(93)-small.jpg\n",
      "https://scripts.njae.me.uk/festive-road-pictures/small/2009/tea_cups_and_w_bletchley_jun_2009/the_west_bletchley_carnival_june_2009_(112)-small.jpg\n",
      "https://scripts.njae.me.uk/festive-road-pictures/small/2009/tea_cups_and_w_bletchley_jun_2009/the_west_bletchley_carnival_june_2009_(284)-small.jpg\n",
      "https://scripts.njae.me.uk/festive-road-pictures/small/2009/tea_cups_and_w_bletchley_jun_2009/the_west_bletchley_carnival_june_2009_(299)-small.jpg\n",
      "https://scripts.njae.me.uk/festive-road-pictures/small/2010/LUTS_2010/light_up_the_sky_nov_2010_(96)-small.jpg\n",
      "https://scripts.njae.me.uk/festive-road-pictures/small/2010/northampton_diwali_2010/jwest-diw10-146-small.jpg\n",
      "https://scripts.njae.me.uk/festive-road-pictures/small/2011/chinese_dragon_corby/Mk_Gallery-small.jpg\n",
      "https://scripts.njae.me.uk/festive-road-pictures/small/2011/cp_-_power_point_dreams_stills/end_bow-small.jpg\n",
      "https://scripts.njae.me.uk/festive-road-pictures/small/2011/Creative_Cafe_Sep_2011/Arogundade_(210)-small.jpg\n",
      "https://scripts.njae.me.uk/festive-road-pictures/small/2011/In_Search_of_Nessie_-_MKG_Feb_2011/_MKG5123-small.jpg\n",
      "https://scripts.njae.me.uk/festive-road-pictures/small/2011/In_Search_of_Nessie_-_MKG_Feb_2011/_MKG8304-small.jpg\n",
      "https://scripts.njae.me.uk/festive-road-pictures/small/2011/John_Mason_School_oxford/DSC_0640-small.jpg\n",
      "https://scripts.njae.me.uk/festive-road-pictures/small/2011/John_Mason_School_oxford/DSC_0865-small.jpg\n",
      "https://scripts.njae.me.uk/festive-road-pictures/small/2011/luts_2011/IMG_5252-small.jpg\n",
      "https://scripts.njae.me.uk/festive-road-pictures/small/2011/Northampton_School_for_Girls/DSC_0006-small.jpg\n",
      "https://scripts.njae.me.uk/festive-road-pictures/small/2011/st_andrews_school_oxford/DSC_0580-small.jpg\n",
      "https://scripts.njae.me.uk/festive-road-pictures/small/2012/brewing_up_2012/mattphoto_288_pf-1389-small.jpg\n",
      "https://scripts.njae.me.uk/festive-road-pictures/small/2012/brewing_up_2012/mattphoto_288_pf-335-small.jpg\n",
      "https://scripts.njae.me.uk/festive-road-pictures/small/2012/Diwali,_Northampton/D152-small.jpg\n",
      "https://scripts.njae.me.uk/festive-road-pictures/small/2012/Greenhouse/_LE10001-small.jpg\n",
      "https://scripts.njae.me.uk/festive-road-pictures/small/2012/walking_with_giants/Dino57-small.jpg\n",
      "https://scripts.njae.me.uk/festive-road-pictures/small/2012/walking_with_giants/IMG_3311-small.jpg\n",
      "https://scripts.njae.me.uk/festive-road-pictures/small/2012/walking_with_giants/IMG_3447-small.jpg\n",
      "https://scripts.njae.me.uk/festive-road-pictures/small/2012/walking_with_giants/IMG_3559-small.jpg\n",
      "https://scripts.njae.me.uk/festive-road-pictures/small/2012/Xcentric_Arts/FR11-small.jpg\n",
      "https://scripts.njae.me.uk/festive-road-pictures/small/2013/clown_workshop/268030_10151446648377421_1899737299_n-small.jpg\n",
      "https://scripts.njae.me.uk/festive-road-pictures/small/2013/cnse_conference/IMG_6849-small.jpg\n",
      "https://scripts.njae.me.uk/festive-road-pictures/small/2013/cnse_conference/IMG_6959-small.jpg\n",
      "https://scripts.njae.me.uk/festive-road-pictures/small/2013/diwali/Diwali-nptn-jpegs-oct_2013-hurst_(95)_(1280x848)-small.jpg\n",
      "https://scripts.njae.me.uk/festive-road-pictures/small/2013/Fair_play/Legge_8-small.jpg\n",
      "https://scripts.njae.me.uk/festive-road-pictures/small/2013/St_Patricks_Parade/8537411438_d0fe5018a8_m-small.jpg\n",
      "https://scripts.njae.me.uk/festive-road-pictures/small/2013/St_Patricks_Parade/8559803767_473a52a16a_s-small.jpg\n",
      "https://scripts.njae.me.uk/festive-road-pictures/small/2013/St_Patricks_Parade/DSC_0506-small.jpg\n",
      "https://scripts.njae.me.uk/festive-road-pictures/small/2013/St_Patricks_Parade/DSC_0710-small.jpg\n",
      "https://scripts.njae.me.uk/festive-road-pictures/small/2013/The_Chain_Reaction/Chain_Reaction_63_(1280x960)-small.jpg\n",
      "https://scripts.njae.me.uk/festive-road-pictures/small/2013/walking_with_giants/2013-07-21_10.42.29-small.jpg\n",
      "https://scripts.njae.me.uk/festive-road-pictures/small/2013/walking_with_giants/2013-07-21_11.28.03-small.jpg\n",
      "https://scripts.njae.me.uk/festive-road-pictures/small/2013/walking_with_giants/2013-07-21_12.28.08_(848x1280)-small.jpg\n",
      "https://scripts.njae.me.uk/festive-road-pictures/small/2013/walking_with_giants/2013-07-21_13.08.35_(1280x963)-small.jpg\n",
      "https://scripts.njae.me.uk/festive-road-pictures/small/2013/walking_with_giants/2013-07-21_13.14.09_(911x1280)-small.jpg\n",
      "https://scripts.njae.me.uk/festive-road-pictures/small/2013/walking_with_giants/2013-07-21_13.38.45-small.jpg\n",
      "https://scripts.njae.me.uk/festive-road-pictures/small/2013/walking_with_giants/Giants69-small.jpg\n",
      "https://scripts.njae.me.uk/festive-road-pictures/small/2013/walking_with_giants/Giants79-small.jpg\n",
      "https://scripts.njae.me.uk/festive-road-pictures/small/2013/walking_with_giants/IMG_0436-small.jpg\n",
      "https://scripts.njae.me.uk/festive-road-pictures/small/2013/walking_with_giants/IMG_0460-small.jpg\n",
      "https://scripts.njae.me.uk/festive-road-pictures/small/2013/walking_with_giants/Walking_with_Giants_(180)-small.jpg\n",
      "https://scripts.njae.me.uk/festive-road-pictures/small/2013/walking_with_giants/Walking_with_Giants_(18)-small.jpg\n",
      "https://scripts.njae.me.uk/festive-road-pictures/small/2013/walking_with_giants/Walking_with_Giants_(79)-small.jpg\n",
      "https://scripts.njae.me.uk/festive-road-pictures/small/2013/woodhall_winter_wonderland/Woodhall_Winter_Wonderland_06_(1280x1017)-small.jpg\n",
      "https://scripts.njae.me.uk/festive-road-pictures/small/2014/r-a-d-trips/la-raie-manta-nautilus-nantes-small.jpg\n",
      "https://scripts.njae.me.uk/festive-road-pictures/small/2014/west-bletchley-carnival/WBC_14-small.jpg\n",
      "https://scripts.njae.me.uk/festive-road-pictures/small/2014/west-bletchley-carnival/workshop01-small.jpg\n",
      "https://scripts.njae.me.uk/festive-road-pictures/small/2014/wwg/IMG_4952-small.jpg\n",
      "https://scripts.njae.me.uk/festive-road-pictures/small/2014/wwg/IMG_5541-small.jpg\n",
      "https://scripts.njae.me.uk/festive-road-pictures/small/2014/wwg/IMG_5725-small.jpg\n",
      "https://scripts.njae.me.uk/festive-road-pictures/small/2015/berinsfield/20150711_130844-small.jpg\n",
      "https://scripts.njae.me.uk/festive-road-pictures/small/2015/paraffinalia/036-small.jpg\n",
      "https://scripts.njae.me.uk/festive-road-pictures/small/2015/wwg/D40_7922_1-small.jpg\n",
      "https://scripts.njae.me.uk/festive-road-pictures/small/2015/wwg/Giant_Walk_JAR_7217-small.jpg\n",
      "https://scripts.njae.me.uk/festive-road-pictures/small/2015/wwg/Giant_Walk_JAR_7305-small.jpg\n",
      "https://scripts.njae.me.uk/festive-road-pictures/small/2015/wwg/Giant_Walk_JAR_7511-small.jpg\n",
      "https://scripts.njae.me.uk/festive-road-pictures/small/2016/southbank/IMG_7915-small.jpg\n",
      "https://scripts.njae.me.uk/festive-road-pictures/small/2017/diwali-2017/_DSF1417-small.jpg\n",
      "https://scripts.njae.me.uk/festive-road-pictures/small/2017/diwali-2017/IMG_9847-small.jpg\n",
      "https://scripts.njae.me.uk/festive-road-pictures/small/2017/ewan-pics-2017/DSC02138-small.jpg\n",
      "https://scripts.njae.me.uk/festive-road-pictures/small/2017/festival-of-giants-2017/IMG_9315-small.jpg\n"
     ]
    }
   ],
   "source": [
    "for i in random_set:\n",
    "    print(i['url'])"
   ]
  },
  {
   "cell_type": "code",
   "execution_count": 81,
   "metadata": {},
   "outputs": [],
   "source": [
    "with open('random-images-hand-tags.json') as infile:\n",
    "    random_set = json.load(infile)"
   ]
  },
  {
   "cell_type": "code",
   "execution_count": 82,
   "metadata": {},
   "outputs": [
    {
     "data": {
      "text/plain": [
       "{'hand-tags': ['generic'],\n",
       " 'url': 'https://scripts.njae.me.uk/festive-road-pictures/small/2008/santa_and_the_magical_christmas_2008/santa_and_the_seriously_magical_xmas_ride_1_(36)-small.jpg'}"
      ]
     },
     "execution_count": 82,
     "metadata": {},
     "output_type": "execute_result"
    }
   ],
   "source": [
    "random_set[0]"
   ]
  },
  {
   "cell_type": "code",
   "execution_count": 91,
   "metadata": {},
   "outputs": [
    {
     "data": {
      "text/plain": [
       "99"
      ]
     },
     "execution_count": 91,
     "metadata": {},
     "output_type": "execute_result"
    }
   ],
   "source": [
    "predictions_r = [trained_model.predict_by_url(i['url']) for i in random_set]\n",
    "len(predictions_r)"
   ]
  },
  {
   "cell_type": "code",
   "execution_count": 92,
   "metadata": {},
   "outputs": [],
   "source": [
    "with open('clarifai-model-1-predictions-random.json', 'w') as outfile:\n",
    "    json.dump(predictions, outfile, indent=2)"
   ]
  },
  {
   "cell_type": "code",
   "execution_count": 95,
   "metadata": {},
   "outputs": [
    {
     "data": {
      "text/plain": [
       "{'outputs': [{'created_at': '2017-11-12T15:32:08.952073Z',\n",
       "   'data': {'concepts': [{'app_id': 'b8033f6111bb45eba4796dd3c5f0f173',\n",
       "      'id': 'puppet',\n",
       "      'name': 'puppet',\n",
       "      'value': 0.00069406204},\n",
       "     {'app_id': 'b8033f6111bb45eba4796dd3c5f0f173',\n",
       "      'id': 'fly',\n",
       "      'name': 'fly',\n",
       "      'value': 0.00053718884},\n",
       "     {'app_id': 'b8033f6111bb45eba4796dd3c5f0f173',\n",
       "      'id': 'installation',\n",
       "      'name': 'installation',\n",
       "      'value': 0.00038191583},\n",
       "     {'app_id': 'b8033f6111bb45eba4796dd3c5f0f173',\n",
       "      'id': 'hummingbirds',\n",
       "      'name': 'hummingbirds',\n",
       "      'value': 0.00017661577},\n",
       "     {'app_id': 'b8033f6111bb45eba4796dd3c5f0f173',\n",
       "      'id': 'mechanism',\n",
       "      'name': 'mechanism',\n",
       "      'value': 0.00017456114},\n",
       "     {'app_id': 'b8033f6111bb45eba4796dd3c5f0f173',\n",
       "      'id': 'goose',\n",
       "      'name': 'goose',\n",
       "      'value': 0.00010243388},\n",
       "     {'app_id': 'b8033f6111bb45eba4796dd3c5f0f173',\n",
       "      'id': 'costume',\n",
       "      'name': 'costume',\n",
       "      'value': 0.000100374404},\n",
       "     {'app_id': 'b8033f6111bb45eba4796dd3c5f0f173',\n",
       "      'id': 'triceratops',\n",
       "      'name': 'triceratops',\n",
       "      'value': 4.6243804e-05},\n",
       "     {'app_id': 'b8033f6111bb45eba4796dd3c5f0f173',\n",
       "      'id': 'drummer',\n",
       "      'name': 'drummer',\n",
       "      'value': 2.4212222e-05},\n",
       "     {'app_id': 'b8033f6111bb45eba4796dd3c5f0f173',\n",
       "      'id': 'elephant',\n",
       "      'name': 'elephant',\n",
       "      'value': 6.35171e-07}]},\n",
       "   'id': 'd65c14c904994340a4df3fc6d3c4eb4f',\n",
       "   'input': {'data': {'image': {'url': 'https://scripts.njae.me.uk/festive-road-pictures/small/2008/santa_and_the_magical_christmas_2008/santa_and_the_seriously_magical_xmas_ride_1_(36)-small.jpg'}},\n",
       "    'id': 'f5eab05292b944d49fa2e0c67f01c11e'},\n",
       "   'model': {'app_id': 'b8033f6111bb45eba4796dd3c5f0f173',\n",
       "    'created_at': '2017-11-12T12:19:43.496982Z',\n",
       "    'id': 'festiveroad',\n",
       "    'model_version': {'created_at': '2017-11-12T12:24:41.872918Z',\n",
       "     'id': 'fd58c5cd713d42469141c5c0277d9029',\n",
       "     'status': {'code': 21100, 'description': 'Model trained successfully'},\n",
       "     'total_input_count': 87},\n",
       "    'name': 'festiveroad',\n",
       "    'output_info': {'message': 'Show output_info with: GET /models/{model_id}/output_info',\n",
       "     'output_config': {'closed_environment': False,\n",
       "      'concepts_mutually_exclusive': False},\n",
       "     'type': 'concept',\n",
       "     'type_ext': 'concept'}},\n",
       "   'status': {'code': 10000, 'description': 'Ok'}}],\n",
       " 'status': {'code': 10000, 'description': 'Ok'}}"
      ]
     },
     "execution_count": 95,
     "metadata": {},
     "output_type": "execute_result"
    }
   ],
   "source": [
    "predictions_r[0]"
   ]
  },
  {
   "cell_type": "code",
   "execution_count": 99,
   "metadata": {},
   "outputs": [
    {
     "name": "stdout",
     "output_type": "stream",
     "text": [
      "[] []\n",
      "[] []\n",
      "[] []\n",
      "[] []\n",
      "['costume'] []\n",
      "['costume'] []\n",
      "['costume'] []\n",
      "['costume'] []\n",
      "[] []\n",
      "['costume', 'puppet'] []\n",
      "[] []\n",
      "['mechanism', 'puppet'] []\n",
      "['puppet'] []\n",
      "['mechanism'] []\n",
      "['puppet'] []\n",
      "[] []\n",
      "['puppet'] []\n",
      "['puppet'] []\n",
      "['costume'] []\n",
      "['puppet'] []\n",
      "['puppet'] []\n",
      "[] []\n",
      "[] []\n",
      "['costume'] ['costume']\n",
      "[] []\n",
      "[] []\n",
      "['costume'] []\n",
      "[] []\n",
      "['costume'] []\n",
      "[] []\n",
      "['costume'] ['costume']\n",
      "[] []\n",
      "[] []\n",
      "['costume'] []\n",
      "[] []\n",
      "[] []\n",
      "['costume'] []\n",
      "['costume'] []\n",
      "['puppet'] []\n",
      "[] []\n",
      "['puppet'] []\n",
      "['costume'] []\n",
      "[] []\n",
      "[] []\n",
      "['costume'] []\n",
      "[] []\n",
      "[] []\n",
      "['costume'] []\n",
      "['costume'] []\n",
      "[] []\n",
      "['costume'] []\n",
      "['costume'] []\n",
      "[] []\n",
      "['puppet'] []\n",
      "['costume', 'puppet'] []\n",
      "['puppet'] []\n",
      "['costume'] ['costume']\n",
      "[] []\n",
      "[] []\n",
      "[] []\n",
      "[] []\n",
      "['puppet'] []\n",
      "['costume'] []\n",
      "[] []\n",
      "[] []\n",
      "['costume'] []\n",
      "['costume'] ['costume']\n",
      "[] []\n",
      "['puppet'] ['costume']\n",
      "[] []\n",
      "['mechanism'] []\n",
      "[] []\n",
      "['puppet'] []\n",
      "['goose', 'puppet'] []\n",
      "['costume', 'puppet'] []\n",
      "['puppet'] []\n",
      "['puppet'] ['costume']\n",
      "['puppet'] []\n",
      "['costume'] []\n",
      "['costume', 'puppet'] []\n",
      "['puppet'] []\n",
      "[] []\n",
      "['mechanism', 'puppet'] []\n",
      "['costume'] []\n",
      "['puppet'] []\n",
      "[] []\n",
      "['costume'] []\n",
      "[] []\n",
      "[] []\n",
      "['puppet'] []\n",
      "[] []\n",
      "['costume'] []\n",
      "['elephant'] []\n",
      "[] ['drummer']\n",
      "[] []\n",
      "['elephant', 'mechanism'] ['mechanism']\n",
      "['elephant'] []\n",
      "['mechanism', 'puppet'] ['mechanism']\n",
      "['puppet'] []\n"
     ]
    }
   ],
   "source": [
    "for p in predictions_r:\n",
    "    url = url_of_prediction(p)\n",
    "    found_tags = [t[0] for t in tags_of_prediction(p) if t[1] > 0.8]\n",
    "    given_tags = [t for t in hand_tags_by_url(url, random_set) if t in all_concepts]\n",
    "    print(given_tags, found_tags)"
   ]
  },
  {
   "cell_type": "code",
   "execution_count": 108,
   "metadata": {},
   "outputs": [
    {
     "data": {
      "text/plain": [
       "(68, 6, 3, 0.08823529411764706)"
      ]
     },
     "execution_count": 108,
     "metadata": {},
     "output_type": "execute_result"
    }
   ],
   "source": [
    "tag_count = found_tag_count = extra_tag_count = 0\n",
    "for p in predictions_r:\n",
    "    url = url_of_prediction(p)\n",
    "    found_tags = [t[0] for t in tags_of_prediction(p) if t[1] > 0.8]\n",
    "    given_tags = [t for t in hand_tags_by_url(url, random_set) if t in all_concepts]\n",
    "    found_tag_count += sum(1 for g in given_tags if g in found_tags)\n",
    "    extra_tag_count += sum(1 for g in found_tags if g not in given_tags)\n",
    "    tag_count += len(given_tags)\n",
    "tag_count, found_tag_count, extra_tag_count, found_tag_count / tag_count"
   ]
  },
  {
   "cell_type": "code",
   "execution_count": 105,
   "metadata": {},
   "outputs": [
    {
     "data": {
      "text/plain": [
       "(57, 57, 0, 1.0)"
      ]
     },
     "execution_count": 105,
     "metadata": {},
     "output_type": "execute_result"
    }
   ],
   "source": [
    "tag_count = found_tag_count = extra_tag_count = 0\n",
    "for p in predictions:\n",
    "    url = url_of_prediction(p)\n",
    "    found_tags = [t[0] for t in tags_of_prediction(p) if t[1] > 0.8]\n",
    "    given_tags = [t for t in hand_tags_by_url(url, test_set) if t in all_concepts]\n",
    "    found_tag_count += sum(1 for g in given_tags if g in found_tags)\n",
    "    extra_tag_count += sum(1 for g in found_tags if g not in given_tags)\n",
    "    tag_count += len(given_tags)\n",
    "tag_count, found_tag_count, extra_tag_count, found_tag_count / tag_count"
   ]
  },
  {
   "cell_type": "code",
   "execution_count": 109,
   "metadata": {},
   "outputs": [
    {
     "data": {
      "text/plain": [
       "[<clarifai.rest.client.Image at 0x7feace682518>,\n",
       " <clarifai.rest.client.Image at 0x7feace682550>]"
      ]
     },
     "execution_count": 109,
     "metadata": {},
     "output_type": "execute_result"
    }
   ],
   "source": [
    "train_image_info = []\n",
    "for i in random_set:\n",
    "    url = i['url']\n",
    "    concs, not_concs = concepts_present(i['hand-tags'], all_concepts)\n",
    "    train_image_info.append(ClImage(url=url, concepts=concs, not_concepts=not_concs))\n",
    "train_image_info[:2]"
   ]
  },
  {
   "cell_type": "code",
   "execution_count": 110,
   "metadata": {},
   "outputs": [
    {
     "data": {
      "text/plain": [
       "[<clarifai.rest.client.Image at 0x7feace677470>,\n",
       " <clarifai.rest.client.Image at 0x7feace6b0e80>,\n",
       " <clarifai.rest.client.Image at 0x7feace6b0320>,\n",
       " <clarifai.rest.client.Image at 0x7feace74a748>,\n",
       " <clarifai.rest.client.Image at 0x7feace74a7b8>,\n",
       " <clarifai.rest.client.Image at 0x7feace74aeb8>,\n",
       " <clarifai.rest.client.Image at 0x7feace74ae48>,\n",
       " <clarifai.rest.client.Image at 0x7feace74a198>,\n",
       " <clarifai.rest.client.Image at 0x7feace74a898>,\n",
       " <clarifai.rest.client.Image at 0x7feace74a518>,\n",
       " <clarifai.rest.client.Image at 0x7feace74a5f8>,\n",
       " <clarifai.rest.client.Image at 0x7feace616da0>,\n",
       " <clarifai.rest.client.Image at 0x7feace616c88>,\n",
       " <clarifai.rest.client.Image at 0x7feace616c50>,\n",
       " <clarifai.rest.client.Image at 0x7feace616518>,\n",
       " <clarifai.rest.client.Image at 0x7feace6164a8>,\n",
       " <clarifai.rest.client.Image at 0x7feace616fd0>,\n",
       " <clarifai.rest.client.Image at 0x7feace616358>,\n",
       " <clarifai.rest.client.Image at 0x7feace616f98>,\n",
       " <clarifai.rest.client.Image at 0x7feace616dd8>,\n",
       " <clarifai.rest.client.Image at 0x7feace717f98>,\n",
       " <clarifai.rest.client.Image at 0x7feace717550>,\n",
       " <clarifai.rest.client.Image at 0x7feace717f60>,\n",
       " <clarifai.rest.client.Image at 0x7feace717ef0>,\n",
       " <clarifai.rest.client.Image at 0x7feace7994e0>,\n",
       " <clarifai.rest.client.Image at 0x7feace799cf8>,\n",
       " <clarifai.rest.client.Image at 0x7feace7993c8>,\n",
       " <clarifai.rest.client.Image at 0x7feace799588>,\n",
       " <clarifai.rest.client.Image at 0x7feace7995f8>,\n",
       " <clarifai.rest.client.Image at 0x7feace7995c0>,\n",
       " <clarifai.rest.client.Image at 0x7feace799160>,\n",
       " <clarifai.rest.client.Image at 0x7feace799d30>,\n",
       " <clarifai.rest.client.Image at 0x7feace799ef0>,\n",
       " <clarifai.rest.client.Image at 0x7feace75bb38>,\n",
       " <clarifai.rest.client.Image at 0x7feace75b208>,\n",
       " <clarifai.rest.client.Image at 0x7feace6fc438>,\n",
       " <clarifai.rest.client.Image at 0x7feace6fcbe0>,\n",
       " <clarifai.rest.client.Image at 0x7feace6fc470>,\n",
       " <clarifai.rest.client.Image at 0x7feace72ce48>,\n",
       " <clarifai.rest.client.Image at 0x7feace72dfd0>,\n",
       " <clarifai.rest.client.Image at 0x7feace72d6d8>,\n",
       " <clarifai.rest.client.Image at 0x7feace72d7f0>,\n",
       " <clarifai.rest.client.Image at 0x7feace72df98>,\n",
       " <clarifai.rest.client.Image at 0x7feace72d588>,\n",
       " <clarifai.rest.client.Image at 0x7feace72d748>,\n",
       " <clarifai.rest.client.Image at 0x7feace72d6a0>,\n",
       " <clarifai.rest.client.Image at 0x7feace602828>,\n",
       " <clarifai.rest.client.Image at 0x7feace602630>,\n",
       " <clarifai.rest.client.Image at 0x7feace602898>,\n",
       " <clarifai.rest.client.Image at 0x7feace602908>,\n",
       " <clarifai.rest.client.Image at 0x7feace602780>,\n",
       " <clarifai.rest.client.Image at 0x7feace602eb8>,\n",
       " <clarifai.rest.client.Image at 0x7feace60f2b0>,\n",
       " <clarifai.rest.client.Image at 0x7feace60f400>,\n",
       " <clarifai.rest.client.Image at 0x7feace60f438>,\n",
       " <clarifai.rest.client.Image at 0x7feace60f240>,\n",
       " <clarifai.rest.client.Image at 0x7feace60f208>,\n",
       " <clarifai.rest.client.Image at 0x7feace60fc88>,\n",
       " <clarifai.rest.client.Image at 0x7feace60fcc0>,\n",
       " <clarifai.rest.client.Image at 0x7feace60f320>,\n",
       " <clarifai.rest.client.Image at 0x7feace60fda0>,\n",
       " <clarifai.rest.client.Image at 0x7feace766748>,\n",
       " <clarifai.rest.client.Image at 0x7feace596048>,\n",
       " <clarifai.rest.client.Image at 0x7feace5960b8>,\n",
       " <clarifai.rest.client.Image at 0x7feace596128>,\n",
       " <clarifai.rest.client.Image at 0x7feace596198>,\n",
       " <clarifai.rest.client.Image at 0x7feace596208>,\n",
       " <clarifai.rest.client.Image at 0x7feace596278>,\n",
       " <clarifai.rest.client.Image at 0x7feace5962e8>,\n",
       " <clarifai.rest.client.Image at 0x7feace596358>,\n",
       " <clarifai.rest.client.Image at 0x7feace5963c8>,\n",
       " <clarifai.rest.client.Image at 0x7feace596438>,\n",
       " <clarifai.rest.client.Image at 0x7feace5964a8>,\n",
       " <clarifai.rest.client.Image at 0x7feace596518>,\n",
       " <clarifai.rest.client.Image at 0x7feace596588>,\n",
       " <clarifai.rest.client.Image at 0x7feace5965f8>,\n",
       " <clarifai.rest.client.Image at 0x7feace596668>,\n",
       " <clarifai.rest.client.Image at 0x7feace5966d8>,\n",
       " <clarifai.rest.client.Image at 0x7feace596748>,\n",
       " <clarifai.rest.client.Image at 0x7feace5967b8>,\n",
       " <clarifai.rest.client.Image at 0x7feace596828>,\n",
       " <clarifai.rest.client.Image at 0x7feace596898>,\n",
       " <clarifai.rest.client.Image at 0x7feace596908>,\n",
       " <clarifai.rest.client.Image at 0x7feace596978>,\n",
       " <clarifai.rest.client.Image at 0x7feace5969e8>,\n",
       " <clarifai.rest.client.Image at 0x7feace596a58>,\n",
       " <clarifai.rest.client.Image at 0x7feace596ac8>,\n",
       " <clarifai.rest.client.Image at 0x7feace596b38>,\n",
       " <clarifai.rest.client.Image at 0x7feace596ba8>,\n",
       " <clarifai.rest.client.Image at 0x7feace596c18>,\n",
       " <clarifai.rest.client.Image at 0x7feace596c88>,\n",
       " <clarifai.rest.client.Image at 0x7feace596cf8>,\n",
       " <clarifai.rest.client.Image at 0x7feace596d68>,\n",
       " <clarifai.rest.client.Image at 0x7feace596dd8>,\n",
       " <clarifai.rest.client.Image at 0x7feace596e48>,\n",
       " <clarifai.rest.client.Image at 0x7feace7505f8>,\n",
       " <clarifai.rest.client.Image at 0x7feace750ac8>,\n",
       " <clarifai.rest.client.Image at 0x7feace750978>,\n",
       " <clarifai.rest.client.Image at 0x7feace750438>]"
      ]
     },
     "execution_count": 110,
     "metadata": {},
     "output_type": "execute_result"
    }
   ],
   "source": [
    "app.inputs.bulk_create_images(train_image_info)"
   ]
  },
  {
   "cell_type": "code",
   "execution_count": 112,
   "metadata": {},
   "outputs": [
    {
     "ename": "ApiError",
     "evalue": "POST https://api.clarifai.com/v2/models FAILED(1510503863.806451). status_code: 402, reason: Payment Required, error_code: 11006, error_description: Account limits exceeded, error_details: Request exceeds \"custom concept\" limit.\n >> Python client 2.0.32 with Python 3.5.2 on linux\n >> POST https://api.clarifai.com/v2/models\n >> REQUEST(1510503863.806451) {\n  \"model\": {\n    \"output_info\": {\n      \"output_config\": {\n        \"closed_environment\": false,\n        \"concepts_mutually_exclusive\": false\n      },\n      \"data\": {\n        \"concepts\": [\n          {\n            \"id\": \"costume\"\n          },\n          {\n            \"id\": \"puppet\"\n          },\n          {\n            \"id\": \"elephant\"\n          },\n          {\n            \"id\": \"goose\"\n          },\n          {\n            \"id\": \"hummingbirds\"\n          },\n          {\n            \"id\": \"drummer\"\n          },\n          {\n            \"id\": \"installation\"\n          },\n          {\n            \"id\": \"fly\"\n          },\n          {\n            \"id\": \"mechanism\"\n          },\n          {\n            \"id\": \"triceratops\"\n          }\n        ]\n      }\n    },\n    \"name\": \"festiveroad\",\n    \"id\": \"festiveroad\"\n  }\n}\n >> RESPONSE(1510503863.806451) {\n  \"status\": {\n    \"description\": \"Account limits exceeded\",\n    \"code\": 11006,\n    \"req_id\": \"ad00af063b0949a89684f21ec62dfc7c\",\n    \"details\": \"Request exceeds \\\"custom concept\\\" limit.\"\n  }\n}",
     "output_type": "error",
     "traceback": [
      "\u001b[0;31m---------------------------------------------------------------------------\u001b[0m",
      "\u001b[0;31mApiError\u001b[0m                                  Traceback (most recent call last)",
      "\u001b[0;32m<ipython-input-112-098180b92a0f>\u001b[0m in \u001b[0;36m<module>\u001b[0;34m()\u001b[0m\n\u001b[0;32m----> 1\u001b[0;31m \u001b[0mmodel2\u001b[0m \u001b[0;34m=\u001b[0m \u001b[0mapp\u001b[0m\u001b[0;34m.\u001b[0m\u001b[0mmodels\u001b[0m\u001b[0;34m.\u001b[0m\u001b[0mcreate\u001b[0m\u001b[0;34m(\u001b[0m\u001b[0;34m'festiveroad'\u001b[0m\u001b[0;34m,\u001b[0m \u001b[0mconcepts\u001b[0m\u001b[0;34m=\u001b[0m\u001b[0mall_concepts\u001b[0m\u001b[0;34m)\u001b[0m\u001b[0;34m\u001b[0m\u001b[0m\n\u001b[0m\u001b[1;32m      2\u001b[0m \u001b[0mmodel2\u001b[0m\u001b[0;34m\u001b[0m\u001b[0m\n",
      "\u001b[0;32m~/Documents/programming/festive-road-tagging/venv/lib/python3.5/site-packages/clarifai/rest/client.py\u001b[0m in \u001b[0;36mcreate\u001b[0;34m(self, model_id, model_name, concepts, concepts_mutually_exclusive, closed_environment, hyper_parameters)\u001b[0m\n\u001b[1;32m   1149\u001b[0m \u001b[0;34m\u001b[0m\u001b[0m\n\u001b[1;32m   1150\u001b[0m     res = self.api.create_model(model_id, model_name, concepts, \\\n\u001b[0;32m-> 1151\u001b[0;31m                                 concepts_mutually_exclusive, closed_environment, hyper_parameters)\n\u001b[0m\u001b[1;32m   1152\u001b[0m \u001b[0;34m\u001b[0m\u001b[0m\n\u001b[1;32m   1153\u001b[0m     \u001b[0;32mif\u001b[0m \u001b[0mres\u001b[0m\u001b[0;34m.\u001b[0m\u001b[0mget\u001b[0m\u001b[0;34m(\u001b[0m\u001b[0;34m'model'\u001b[0m\u001b[0;34m)\u001b[0m\u001b[0;34m:\u001b[0m\u001b[0;34m\u001b[0m\u001b[0m\n",
      "\u001b[0;32m~/Documents/programming/festive-road-tagging/venv/lib/python3.5/site-packages/clarifai/rest/client.py\u001b[0m in \u001b[0;36mcreate_model\u001b[0;34m(self, model_id, model_name, concepts, concepts_mutually_exclusive, closed_environment, hyper_parameters)\u001b[0m\n\u001b[1;32m   3988\u001b[0m         \u001b[0;32mpass\u001b[0m\u001b[0;34m\u001b[0m\u001b[0m\n\u001b[1;32m   3989\u001b[0m \u001b[0;34m\u001b[0m\u001b[0m\n\u001b[0;32m-> 3990\u001b[0;31m     \u001b[0mres\u001b[0m \u001b[0;34m=\u001b[0m \u001b[0mself\u001b[0m\u001b[0;34m.\u001b[0m\u001b[0mpost\u001b[0m\u001b[0;34m(\u001b[0m\u001b[0mresource\u001b[0m\u001b[0;34m,\u001b[0m \u001b[0mdata\u001b[0m\u001b[0;34m)\u001b[0m\u001b[0;34m\u001b[0m\u001b[0m\n\u001b[0m\u001b[1;32m   3991\u001b[0m     \u001b[0;32mreturn\u001b[0m \u001b[0mres\u001b[0m\u001b[0;34m\u001b[0m\u001b[0m\n\u001b[1;32m   3992\u001b[0m \u001b[0;34m\u001b[0m\u001b[0m\n",
      "\u001b[0;32m~/Documents/programming/festive-road-tagging/venv/lib/python3.5/site-packages/clarifai/rest/client.py\u001b[0m in \u001b[0;36mpost\u001b[0;34m(self, resource, params, version)\u001b[0m\n\u001b[1;32m   3437\u001b[0m   \u001b[0;32mdef\u001b[0m \u001b[0mpost\u001b[0m\u001b[0;34m(\u001b[0m\u001b[0mself\u001b[0m\u001b[0;34m,\u001b[0m \u001b[0mresource\u001b[0m\u001b[0;34m,\u001b[0m \u001b[0mparams\u001b[0m\u001b[0;34m=\u001b[0m\u001b[0;32mNone\u001b[0m\u001b[0;34m,\u001b[0m \u001b[0mversion\u001b[0m\u001b[0;34m=\u001b[0m\u001b[0;34m\"v2\"\u001b[0m\u001b[0;34m)\u001b[0m\u001b[0;34m:\u001b[0m\u001b[0;34m\u001b[0m\u001b[0m\n\u001b[1;32m   3438\u001b[0m     \u001b[0;34m''' Authorized post to Clarifai's API. '''\u001b[0m\u001b[0;34m\u001b[0m\u001b[0m\n\u001b[0;32m-> 3439\u001b[0;31m     \u001b[0;32mreturn\u001b[0m \u001b[0mself\u001b[0m\u001b[0;34m.\u001b[0m\u001b[0m_requester\u001b[0m\u001b[0;34m(\u001b[0m\u001b[0mresource\u001b[0m\u001b[0;34m,\u001b[0m \u001b[0mparams\u001b[0m\u001b[0;34m,\u001b[0m \u001b[0;34m'POST'\u001b[0m\u001b[0;34m,\u001b[0m \u001b[0mversion\u001b[0m\u001b[0;34m)\u001b[0m\u001b[0;34m\u001b[0m\u001b[0m\n\u001b[0m\u001b[1;32m   3440\u001b[0m \u001b[0;34m\u001b[0m\u001b[0m\n\u001b[1;32m   3441\u001b[0m   \u001b[0;32mdef\u001b[0m \u001b[0mdelete\u001b[0m\u001b[0;34m(\u001b[0m\u001b[0mself\u001b[0m\u001b[0;34m,\u001b[0m \u001b[0mresource\u001b[0m\u001b[0;34m,\u001b[0m \u001b[0mparams\u001b[0m\u001b[0;34m=\u001b[0m\u001b[0;32mNone\u001b[0m\u001b[0;34m,\u001b[0m \u001b[0mversion\u001b[0m\u001b[0;34m=\u001b[0m\u001b[0;34m\"v2\"\u001b[0m\u001b[0;34m)\u001b[0m\u001b[0;34m:\u001b[0m\u001b[0;34m\u001b[0m\u001b[0m\n",
      "\u001b[0;32m~/Documents/programming/festive-road-tagging/venv/lib/python3.5/site-packages/clarifai/rest/client.py\u001b[0m in \u001b[0;36m_requester\u001b[0;34m(self, resource, params, method, version)\u001b[0m\n\u001b[1;32m   3427\u001b[0m     \u001b[0;32mif\u001b[0m \u001b[0mres\u001b[0m\u001b[0;34m.\u001b[0m\u001b[0mstatus_code\u001b[0m \u001b[0;34m!=\u001b[0m \u001b[0;36m200\u001b[0m\u001b[0;34m:\u001b[0m\u001b[0;34m\u001b[0m\u001b[0m\n\u001b[1;32m   3428\u001b[0m       \u001b[0mlogger\u001b[0m\u001b[0;34m.\u001b[0m\u001b[0mdebug\u001b[0m\u001b[0;34m(\u001b[0m\u001b[0;34m\"Failed after %d retrie(s)\"\u001b[0m \u001b[0;34m%\u001b[0m \u001b[0;34m(\u001b[0m\u001b[0mmax_attempts\u001b[0m \u001b[0;34m-\u001b[0m \u001b[0mattempts\u001b[0m\u001b[0;34m)\u001b[0m\u001b[0;34m)\u001b[0m\u001b[0;34m\u001b[0m\u001b[0m\n\u001b[0;32m-> 3429\u001b[0;31m       \u001b[0;32mraise\u001b[0m \u001b[0mApiError\u001b[0m\u001b[0;34m(\u001b[0m\u001b[0mresource\u001b[0m\u001b[0;34m,\u001b[0m \u001b[0mparams\u001b[0m\u001b[0;34m,\u001b[0m \u001b[0mmethod\u001b[0m\u001b[0;34m,\u001b[0m \u001b[0mres\u001b[0m\u001b[0;34m,\u001b[0m \u001b[0mself\u001b[0m\u001b[0;34m)\u001b[0m\u001b[0;34m\u001b[0m\u001b[0m\n\u001b[0m\u001b[1;32m   3430\u001b[0m \u001b[0;34m\u001b[0m\u001b[0m\n\u001b[1;32m   3431\u001b[0m     \u001b[0;32mreturn\u001b[0m \u001b[0mres\u001b[0m\u001b[0;34m.\u001b[0m\u001b[0mjson\u001b[0m\u001b[0;34m(\u001b[0m\u001b[0;34m)\u001b[0m\u001b[0;34m\u001b[0m\u001b[0m\n",
      "\u001b[0;31mApiError\u001b[0m: POST https://api.clarifai.com/v2/models FAILED(1510503863.806451). status_code: 402, reason: Payment Required, error_code: 11006, error_description: Account limits exceeded, error_details: Request exceeds \"custom concept\" limit.\n >> Python client 2.0.32 with Python 3.5.2 on linux\n >> POST https://api.clarifai.com/v2/models\n >> REQUEST(1510503863.806451) {\n  \"model\": {\n    \"output_info\": {\n      \"output_config\": {\n        \"closed_environment\": false,\n        \"concepts_mutually_exclusive\": false\n      },\n      \"data\": {\n        \"concepts\": [\n          {\n            \"id\": \"costume\"\n          },\n          {\n            \"id\": \"puppet\"\n          },\n          {\n            \"id\": \"elephant\"\n          },\n          {\n            \"id\": \"goose\"\n          },\n          {\n            \"id\": \"hummingbirds\"\n          },\n          {\n            \"id\": \"drummer\"\n          },\n          {\n            \"id\": \"installation\"\n          },\n          {\n            \"id\": \"fly\"\n          },\n          {\n            \"id\": \"mechanism\"\n          },\n          {\n            \"id\": \"triceratops\"\n          }\n        ]\n      }\n    },\n    \"name\": \"festiveroad\",\n    \"id\": \"festiveroad\"\n  }\n}\n >> RESPONSE(1510503863.806451) {\n  \"status\": {\n    \"description\": \"Account limits exceeded\",\n    \"code\": 11006,\n    \"req_id\": \"ad00af063b0949a89684f21ec62dfc7c\",\n    \"details\": \"Request exceeds \\\"custom concept\\\" limit.\"\n  }\n}"
     ]
    }
   ],
   "source": [
    "model2 = app.models.create('festiveroad', concepts=all_concepts)\n",
    "model2"
   ]
  },
  {
   "cell_type": "code",
   "execution_count": null,
   "metadata": {},
   "outputs": [],
   "source": []
  }
 ],
 "metadata": {
  "kernelspec": {
   "display_name": "Python 3",
   "language": "python",
   "name": "python3"
  },
  "language_info": {
   "codemirror_mode": {
    "name": "ipython",
    "version": 3
   },
   "file_extension": ".py",
   "mimetype": "text/x-python",
   "name": "python",
   "nbconvert_exporter": "python",
   "pygments_lexer": "ipython3",
   "version": "3.5.2"
  }
 },
 "nbformat": 4,
 "nbformat_minor": 2
}
