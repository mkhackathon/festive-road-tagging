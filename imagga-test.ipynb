{
 "cells": [
  {
   "cell_type": "code",
   "execution_count": 1,
   "metadata": {},
   "outputs": [],
   "source": [
    "import configparser\n",
    "import requests\n",
    "import json"
   ]
  },
  {
   "cell_type": "code",
   "execution_count": 4,
   "metadata": {},
   "outputs": [
    {
     "data": {
      "text/plain": [
       "['api_key', 'api_secret', 'basic']"
      ]
     },
     "execution_count": 4,
     "metadata": {},
     "output_type": "execute_result"
    }
   ],
   "source": [
    "config = configparser.ConfigParser()\n",
    "config.read('secrets/keys.ini')\n",
    "list(config['imagga'].keys())"
   ]
  },
  {
   "cell_type": "code",
   "execution_count": 5,
   "metadata": {},
   "outputs": [],
   "source": [
    "tagging_url = 'https://api.imagga.com/v1/tagging'"
   ]
  },
  {
   "cell_type": "code",
   "execution_count": 6,
   "metadata": {},
   "outputs": [
    {
     "data": {
      "text/plain": [
       "200"
      ]
     },
     "execution_count": 6,
     "metadata": {},
     "output_type": "execute_result"
    }
   ],
   "source": [
    "payload = {'url': 'https://scripts.njae.me.uk/festive-road-pictures/DSC_5055.jpg'}\n",
    "r = requests.get(tagging_url, params=payload, \n",
    "                 auth=(config['imagga']['api_key'], config['imagga']['api_secret']))\n",
    "r.status_code"
   ]
  },
  {
   "cell_type": "code",
   "execution_count": 7,
   "metadata": {
    "scrolled": true
   },
   "outputs": [
    {
     "data": {
      "text/plain": [
       "{'results': [{'image': 'https://scripts.njae.me.uk/festive-road-pictures/DSC_5055.jpg',\n",
       "   'tagging_id': None,\n",
       "   'tags': [{'confidence': 38.232234954834, 'tag': 'boat'},\n",
       "    {'confidence': 35.3137474060059, 'tag': 'helm'},\n",
       "    {'confidence': 35.155200958252, 'tag': 'sea'},\n",
       "    {'confidence': 30.9233875274658, 'tag': 'mechanism'},\n",
       "    {'confidence': 29.3367786407471, 'tag': 'water'},\n",
       "    {'confidence': 27.1476440429688, 'tag': 'ship'},\n",
       "    {'confidence': 25.7043170928955, 'tag': 'ocean'},\n",
       "    {'confidence': 24.2182464599609, 'tag': 'sky'},\n",
       "    {'confidence': 23.128044128418, 'tag': 'carousel'},\n",
       "    {'confidence': 23.0567932128906, 'tag': 'fishing'},\n",
       "    {'confidence': 20.4817810058594, 'tag': 'fisherman'},\n",
       "    {'confidence': 20.0663928985596, 'tag': 'tourist'},\n",
       "    {'confidence': 19.6258144378662, 'tag': 'vacation'},\n",
       "    {'confidence': 19.481128692627, 'tag': 'device'},\n",
       "    {'confidence': 18.8042678833008, 'tag': 'man'},\n",
       "    {'confidence': 18.4973068237305, 'tag': 'ride'},\n",
       "    {'confidence': 17.9179649353027, 'tag': 'industry'},\n",
       "    {'confidence': 17.5896759033203, 'tag': 'travel'},\n",
       "    {'confidence': 17.4636516571045, 'tag': 'nautical'},\n",
       "    {'confidence': 17.4007472991943, 'tag': 'seller'},\n",
       "    {'confidence': 16.6183757781982, 'tag': 'vessel'},\n",
       "    {'confidence': 16.595235824585, 'tag': 'person'},\n",
       "    {'confidence': 15.9214200973511, 'tag': 'crane'},\n",
       "    {'confidence': 15.7564239501953, 'tag': 'work'},\n",
       "    {'confidence': 15.6618623733521, 'tag': 'tourism'},\n",
       "    {'confidence': 15.5959253311157, 'tag': 'male'},\n",
       "    {'confidence': 15.4698295593262, 'tag': 'equipment'},\n",
       "    {'confidence': 15.4245510101318, 'tag': 'industrial'},\n",
       "    {'confidence': 15.3998117446899, 'tag': 'port'},\n",
       "    {'confidence': 15.3900966644287, 'tag': 'harbor'},\n",
       "    {'confidence': 14.5908794403076, 'tag': 'sailing'},\n",
       "    {'confidence': 14.5399751663208, 'tag': 'construction'},\n",
       "    {'confidence': 13.6848726272583, 'tag': 'transport'},\n",
       "    {'confidence': 13.4778242111206, 'tag': 'beach'},\n",
       "    {'confidence': 13.2762184143066, 'tag': 'leisure'},\n",
       "    {'confidence': 12.8517141342163, 'tag': 'summer'},\n",
       "    {'confidence': 12.7647399902344, 'tag': 'building'},\n",
       "    {'confidence': 12.6811437606812, 'tag': 'outdoors'},\n",
       "    {'confidence': 12.638370513916, 'tag': 'park'},\n",
       "    {'confidence': 12.2620525360107, 'tag': 'people'},\n",
       "    {'confidence': 11.9207334518433, 'tag': 'fish'},\n",
       "    {'confidence': 11.6643762588501, 'tag': 'coast'},\n",
       "    {'confidence': 11.6453876495361, 'tag': 'transportation'},\n",
       "    {'confidence': 11.6445875167847, 'tag': 'recreation'},\n",
       "    {'confidence': 11.4647226333618, 'tag': 'bay'},\n",
       "    {'confidence': 11.3159437179565, 'tag': 'traveler'},\n",
       "    {'confidence': 10.9766292572021, 'tag': 'clouds'},\n",
       "    {'confidence': 10.925633430481, 'tag': 'business'},\n",
       "    {'confidence': 10.7722330093384, 'tag': 'sailboat'},\n",
       "    {'confidence': 10.7418346405029, 'tag': 'holiday'},\n",
       "    {'confidence': 10.6970748901367, 'tag': 'dock'},\n",
       "    {'confidence': 10.6939115524292, 'tag': 'outdoor'},\n",
       "    {'confidence': 10.6844730377197, 'tag': 'sail'},\n",
       "    {'confidence': 10.6635484695435, 'tag': 'cargo'},\n",
       "    {'confidence': 10.4451007843018, 'tag': 'marine'},\n",
       "    {'confidence': 10.0636129379272, 'tag': 'lake'},\n",
       "    {'confidence': 9.74151229858398, 'tag': 'yacht'},\n",
       "    {'confidence': 9.46279811859131, 'tag': 'sunny'},\n",
       "    {'confidence': 9.41292953491211, 'tag': 'rope'},\n",
       "    {'confidence': 9.36742973327637, 'tag': 'architecture'},\n",
       "    {'confidence': 9.20490550994873, 'tag': 'relaxation'},\n",
       "    {'confidence': 9.13917255401611, 'tag': 'engineer'},\n",
       "    {'confidence': 8.94724369049072, 'tag': 'tower'},\n",
       "    {'confidence': 8.72843933105469, 'tag': 'boats'},\n",
       "    {'confidence': 8.71849918365479, 'tag': 'builder'},\n",
       "    {'confidence': 8.66730308532715, 'tag': 'lifestyle'},\n",
       "    {'confidence': 8.5519380569458, 'tag': 'outside'},\n",
       "    {'confidence': 8.53019523620605, 'tag': 'hobby'},\n",
       "    {'confidence': 8.45472145080566, 'tag': 'coastline'},\n",
       "    {'confidence': 8.16012763977051, 'tag': 'technology'},\n",
       "    {'confidence': 8.00954246520996, 'tag': 'line'},\n",
       "    {'confidence': 7.99735736846924, 'tag': 'worker'},\n",
       "    {'confidence': 7.96390104293823, 'tag': 'sport'},\n",
       "    {'confidence': 7.95170402526855, 'tag': 'steel'},\n",
       "    {'confidence': 7.84071969985962, 'tag': 'day'},\n",
       "    {'confidence': 7.83095455169678, 'tag': 'happiness'},\n",
       "    {'confidence': 7.82828235626221, 'tag': 'catch'},\n",
       "    {'confidence': 7.77422666549683, 'tag': 'cruise'},\n",
       "    {'confidence': 7.74920797348022, 'tag': 'pier'},\n",
       "    {'confidence': 7.6921763420105, 'tag': 'project'},\n",
       "    {'confidence': 7.57369041442871, 'tag': 'relax'},\n",
       "    {'confidence': 7.52134799957275, 'tag': 'vacations'},\n",
       "    {'confidence': 7.47667598724365, 'tag': 'traditional'},\n",
       "    {'confidence': 7.43139982223511, 'tag': 'landscape'},\n",
       "    {'confidence': 7.42973232269287, 'tag': 'shore'},\n",
       "    {'confidence': 7.33306264877319, 'tag': 'stage'},\n",
       "    {'confidence': 7.19215631484985, 'tag': 'craft'},\n",
       "    {'confidence': 7.1607494354248, 'tag': 'activity'},\n",
       "    {'confidence': 7.16027307510376, 'tag': 'colorful'},\n",
       "    {'confidence': 7.11016511917114, 'tag': 'adult'},\n",
       "    {'confidence': 7.08861446380615, 'tag': 'deck'},\n",
       "    {'confidence': 7.07479619979858, 'tag': 'job'}]}]}"
      ]
     },
     "execution_count": 7,
     "metadata": {},
     "output_type": "execute_result"
    }
   ],
   "source": [
    "r.json()"
   ]
  },
  {
   "cell_type": "code",
   "execution_count": 8,
   "metadata": {},
   "outputs": [
    {
     "data": {
      "text/plain": [
       "200"
      ]
     },
     "execution_count": 8,
     "metadata": {},
     "output_type": "execute_result"
    }
   ],
   "source": [
    "payload = {'url': 'https://scripts.njae.me.uk/festive-road-pictures/Heritage%20Open%20Day%202017/21369561_808267496021747_5335699866778431100_n.jpg'}\n",
    "r = requests.get(tagging_url, params=payload, \n",
    "                 auth=(config['imagga']['api_key'], config['imagga']['api_secret']))\n",
    "r.status_code"
   ]
  },
  {
   "cell_type": "code",
   "execution_count": 9,
   "metadata": {},
   "outputs": [
    {
     "data": {
      "text/plain": [
       "{'results': [{'image': 'https://scripts.njae.me.uk/festive-road-pictures/Heritage%20Open%20Day%202017/21369561_808267496021747_5335699866778431100_n.jpg',\n",
       "   'tagging_id': None,\n",
       "   'tags': [{'confidence': 35.0963821411133, 'tag': 'teddy'},\n",
       "    {'confidence': 31.5228404998779, 'tag': 'plaything'},\n",
       "    {'confidence': 23.1966037750244, 'tag': 'costume'},\n",
       "    {'confidence': 20.4078369140625, 'tag': 'travel'},\n",
       "    {'confidence': 19.9450378417969, 'tag': 'traditional'},\n",
       "    {'confidence': 19.6444206237793, 'tag': 'culture'},\n",
       "    {'confidence': 18.9384384155273, 'tag': 'statue'},\n",
       "    {'confidence': 17.77294921875, 'tag': 'sculpture'},\n",
       "    {'confidence': 17.7320041656494, 'tag': 'camel'},\n",
       "    {'confidence': 17.4623241424561, 'tag': 'art'},\n",
       "    {'confidence': 16.8263988494873, 'tag': 'mask'},\n",
       "    {'confidence': 16.8162689208984, 'tag': 'portrait'},\n",
       "    {'confidence': 16.0900630950928, 'tag': 'history'},\n",
       "    {'confidence': 15.9458026885986, 'tag': 'head'},\n",
       "    {'confidence': 14.6281175613403, 'tag': 'performer'},\n",
       "    {'confidence': 13.9990520477295, 'tag': 'person'},\n",
       "    {'confidence': 13.9969835281372, 'tag': 'east'},\n",
       "    {'confidence': 13.6135282516479, 'tag': 'carnival'},\n",
       "    {'confidence': 13.4882955551147, 'tag': 'face'},\n",
       "    {'confidence': 13.4646139144897, 'tag': 'fun'},\n",
       "    {'confidence': 12.9255313873291, 'tag': 'tradition'},\n",
       "    {'confidence': 12.8943405151367, 'tag': 'colorful'},\n",
       "    {'confidence': 12.8559198379517, 'tag': 'dancer'},\n",
       "    {'confidence': 12.7536878585815, 'tag': 'celebration'},\n",
       "    {'confidence': 12.5154457092285, 'tag': 'temple'},\n",
       "    {'confidence': 12.364914894104, 'tag': 'tourism'},\n",
       "    {'confidence': 12.3341512680054, 'tag': 'horse'},\n",
       "    {'confidence': 11.1996831893921, 'tag': 'desert'},\n",
       "    {'confidence': 11.1412744522095, 'tag': 'old'},\n",
       "    {'confidence': 10.837438583374, 'tag': 'dress'},\n",
       "    {'confidence': 10.6181535720825, 'tag': 'entertainer'},\n",
       "    {'confidence': 10.5192232131958, 'tag': 'festival'},\n",
       "    {'confidence': 10.0727567672729, 'tag': 'man'},\n",
       "    {'confidence': 10.0354022979736, 'tag': 'people'},\n",
       "    {'confidence': 10.0249700546265, 'tag': 'holiday'},\n",
       "    {'confidence': 9.85226154327393, 'tag': 'religion'},\n",
       "    {'confidence': 9.64652729034424, 'tag': 'zoo'},\n",
       "    {'confidence': 9.53980541229248, 'tag': 'decoration'},\n",
       "    {'confidence': 9.50618553161621, 'tag': 'ancient'},\n",
       "    {'confidence': 9.28448963165283, 'tag': 'greyhound'},\n",
       "    {'confidence': 9.08064651489258, 'tag': 'clothing'},\n",
       "    {'confidence': 8.85700416564941, 'tag': 'venetian'},\n",
       "    {'confidence': 8.6303825378418, 'tag': 'medieval'},\n",
       "    {'confidence': 8.5865535736084, 'tag': 'architecture'},\n",
       "    {'confidence': 8.11492443084717, 'tag': 'disguise'},\n",
       "    {'confidence': 8.01750373840332, 'tag': 'wildlife'},\n",
       "    {'confidence': 7.81628465652466, 'tag': 'soldier'},\n",
       "    {'confidence': 7.78315496444702, 'tag': 'color'},\n",
       "    {'confidence': 7.72798013687134, 'tag': 'empty'},\n",
       "    {'confidence': 7.70183038711548, 'tag': 'helmet'},\n",
       "    {'confidence': 7.59295463562012, 'tag': 'city'},\n",
       "    {'confidence': 7.5209813117981, 'tag': 'historical'},\n",
       "    {'confidence': 7.51394510269165, 'tag': 'fur'},\n",
       "    {'confidence': 7.51090526580811, 'tag': 'china'},\n",
       "    {'confidence': 7.46709823608398, 'tag': 'tourist'},\n",
       "    {'confidence': 7.43883562088013, 'tag': 'famous'},\n",
       "    {'confidence': 7.40843677520752, 'tag': 'closeup'},\n",
       "    {'confidence': 7.4026985168457, 'tag': 'animals'},\n",
       "    {'confidence': 7.33112859725952, 'tag': 'historic'},\n",
       "    {'confidence': 7.31905651092529, 'tag': 'makeup'},\n",
       "    {'confidence': 7.29027128219604, 'tag': 'hat'},\n",
       "    {'confidence': 7.27521562576294, 'tag': 'exotic'},\n",
       "    {'confidence': 7.193359375, 'tag': 'suit'},\n",
       "    {'confidence': 7.08788824081421, 'tag': 'male'},\n",
       "    {'confidence': 7.04159307479858, 'tag': 'mascot'}]}]}"
      ]
     },
     "execution_count": 9,
     "metadata": {},
     "output_type": "execute_result"
    }
   ],
   "source": [
    "r.json()"
   ]
  },
  {
   "cell_type": "code",
   "execution_count": null,
   "metadata": {},
   "outputs": [],
   "source": []
  }
 ],
 "metadata": {
  "kernelspec": {
   "display_name": "Python 3",
   "language": "python",
   "name": "python3"
  },
  "language_info": {
   "codemirror_mode": {
    "name": "ipython",
    "version": 3
   },
   "file_extension": ".py",
   "mimetype": "text/x-python",
   "name": "python",
   "nbconvert_exporter": "python",
   "pygments_lexer": "ipython3",
   "version": "3.5.3"
  }
 },
 "nbformat": 4,
 "nbformat_minor": 2
}
