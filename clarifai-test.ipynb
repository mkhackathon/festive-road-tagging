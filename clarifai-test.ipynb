{
 "cells": [
  {
   "cell_type": "code",
   "execution_count": 1,
   "metadata": {},
   "outputs": [],
   "source": [
    "import configparser\n",
    "import requests\n",
    "import json"
   ]
  },
  {
   "cell_type": "code",
   "execution_count": 2,
   "metadata": {},
   "outputs": [
    {
     "data": {
      "text/plain": [
       "['api_key', 'app_name']"
      ]
     },
     "execution_count": 2,
     "metadata": {},
     "output_type": "execute_result"
    }
   ],
   "source": [
    "config = configparser.ConfigParser()\n",
    "config.read('secrets/keys.ini')\n",
    "list(config['clarifai'].keys())"
   ]
  },
  {
   "cell_type": "code",
   "execution_count": 3,
   "metadata": {},
   "outputs": [],
   "source": [
    "from clarifai import rest\n",
    "from clarifai.rest import ClarifaiApp\n",
    "\n",
    "app = ClarifaiApp(api_key=config['clarifai']['api_key'])"
   ]
  },
  {
   "cell_type": "code",
   "execution_count": 4,
   "metadata": {},
   "outputs": [],
   "source": [
    "model = app.models.get(\"general-v1.3\")"
   ]
  },
  {
   "cell_type": "code",
   "execution_count": 5,
   "metadata": {},
   "outputs": [
    {
     "data": {
      "text/plain": [
       "1"
      ]
     },
     "execution_count": 5,
     "metadata": {},
     "output_type": "execute_result"
    }
   ],
   "source": [
    "# predict with the model\n",
    "prediction = model.predict_by_url(url='https://scripts.njae.me.uk/festive-road-pictures/small/2017/dinosaurs-2017/Hilary-1024x682-small.jpg')\n",
    "len(prediction['outputs'])"
   ]
  },
  {
   "cell_type": "code",
   "execution_count": 6,
   "metadata": {},
   "outputs": [
    {
     "name": "stdout",
     "output_type": "stream",
     "text": [
      "wheel\t0.97040087\n",
      "travel\t0.92627263\n",
      "transportation system\t0.9254669\n",
      "people\t0.9126378\n",
      "man\t0.88871336\n",
      "seated\t0.88404197\n",
      "outdoors\t0.8577013\n",
      "city\t0.84909\n",
      "park\t0.8472949\n",
      "sky\t0.83394873\n",
      "adult\t0.8234924\n",
      "vehicle\t0.8224447\n",
      "outside\t0.81949174\n",
      "road\t0.796729\n",
      "roll along\t0.7957318\n",
      "woman\t0.79411066\n",
      "two\t0.7910385\n",
      "leisure\t0.7803555\n",
      "bike\t0.77788484\n",
      "summer\t0.77423936\n"
     ]
    }
   ],
   "source": [
    "for tag in prediction['outputs'][0]['data']['concepts']:\n",
    "    print('{}\\t{}'.format(tag['name'], tag['value']))"
   ]
  },
  {
   "cell_type": "code",
   "execution_count": null,
   "metadata": {},
   "outputs": [],
   "source": []
  }
 ],
 "metadata": {
  "kernelspec": {
   "display_name": "Python 3",
   "language": "python",
   "name": "python3"
  },
  "language_info": {
   "codemirror_mode": {
    "name": "ipython",
    "version": 3
   },
   "file_extension": ".py",
   "mimetype": "text/x-python",
   "name": "python",
   "nbconvert_exporter": "python",
   "pygments_lexer": "ipython3",
   "version": "3.5.2"
  }
 },
 "nbformat": 4,
 "nbformat_minor": 2
}
